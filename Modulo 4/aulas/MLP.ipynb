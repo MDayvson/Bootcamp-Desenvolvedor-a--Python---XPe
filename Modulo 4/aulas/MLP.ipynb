{
 "cells": [
  {
   "cell_type": "code",
   "execution_count": 1,
   "id": "6df12b79",
   "metadata": {},
   "outputs": [],
   "source": [
    "import pandas as pd\n",
    "df = pd.read_csv('credit_data.csv')"
   ]
  },
  {
   "cell_type": "code",
   "execution_count": 2,
   "id": "0b8b0ef9",
   "metadata": {},
   "outputs": [
    {
     "data": {
      "text/plain": [
       "Index(['clientid', 'income', 'age', 'loan', 'default'], dtype='object')"
      ]
     },
     "execution_count": 2,
     "metadata": {},
     "output_type": "execute_result"
    }
   ],
   "source": [
    "df.columns"
   ]
  },
  {
   "cell_type": "code",
   "execution_count": 3,
   "id": "f8d94923",
   "metadata": {},
   "outputs": [
    {
     "data": {
      "text/html": [
       "<div>\n",
       "<style scoped>\n",
       "    .dataframe tbody tr th:only-of-type {\n",
       "        vertical-align: middle;\n",
       "    }\n",
       "\n",
       "    .dataframe tbody tr th {\n",
       "        vertical-align: top;\n",
       "    }\n",
       "\n",
       "    .dataframe thead th {\n",
       "        text-align: right;\n",
       "    }\n",
       "</style>\n",
       "<table border=\"1\" class=\"dataframe\">\n",
       "  <thead>\n",
       "    <tr style=\"text-align: right;\">\n",
       "      <th></th>\n",
       "      <th>income</th>\n",
       "      <th>age</th>\n",
       "    </tr>\n",
       "  </thead>\n",
       "  <tbody>\n",
       "    <tr>\n",
       "      <th>0</th>\n",
       "      <td>66155.925095</td>\n",
       "      <td>59.017015</td>\n",
       "    </tr>\n",
       "    <tr>\n",
       "      <th>1</th>\n",
       "      <td>34415.153966</td>\n",
       "      <td>48.117153</td>\n",
       "    </tr>\n",
       "    <tr>\n",
       "      <th>2</th>\n",
       "      <td>57317.170063</td>\n",
       "      <td>63.108049</td>\n",
       "    </tr>\n",
       "    <tr>\n",
       "      <th>3</th>\n",
       "      <td>42709.534201</td>\n",
       "      <td>45.751972</td>\n",
       "    </tr>\n",
       "    <tr>\n",
       "      <th>4</th>\n",
       "      <td>66952.688845</td>\n",
       "      <td>18.584336</td>\n",
       "    </tr>\n",
       "  </tbody>\n",
       "</table>\n",
       "</div>"
      ],
      "text/plain": [
       "         income        age\n",
       "0  66155.925095  59.017015\n",
       "1  34415.153966  48.117153\n",
       "2  57317.170063  63.108049\n",
       "3  42709.534201  45.751972\n",
       "4  66952.688845  18.584336"
      ]
     },
     "execution_count": 3,
     "metadata": {},
     "output_type": "execute_result"
    }
   ],
   "source": [
    "df2 = df[['income','age']]\n",
    "df2.head()"
   ]
  },
  {
   "cell_type": "code",
   "execution_count": 4,
   "id": "eb8b46a1",
   "metadata": {},
   "outputs": [
    {
     "data": {
      "text/html": [
       "<div>\n",
       "<style scoped>\n",
       "    .dataframe tbody tr th:only-of-type {\n",
       "        vertical-align: middle;\n",
       "    }\n",
       "\n",
       "    .dataframe tbody tr th {\n",
       "        vertical-align: top;\n",
       "    }\n",
       "\n",
       "    .dataframe thead th {\n",
       "        text-align: right;\n",
       "    }\n",
       "</style>\n",
       "<table border=\"1\" class=\"dataframe\">\n",
       "  <thead>\n",
       "    <tr style=\"text-align: right;\">\n",
       "      <th></th>\n",
       "      <th>clientid</th>\n",
       "      <th>income</th>\n",
       "      <th>age</th>\n",
       "      <th>loan</th>\n",
       "      <th>default</th>\n",
       "    </tr>\n",
       "  </thead>\n",
       "  <tbody>\n",
       "    <tr>\n",
       "      <th>0</th>\n",
       "      <td>1</td>\n",
       "      <td>66155.925095</td>\n",
       "      <td>59.017015</td>\n",
       "      <td>8106.532131</td>\n",
       "      <td>0</td>\n",
       "    </tr>\n",
       "    <tr>\n",
       "      <th>1</th>\n",
       "      <td>2</td>\n",
       "      <td>34415.153966</td>\n",
       "      <td>48.117153</td>\n",
       "      <td>6564.745018</td>\n",
       "      <td>0</td>\n",
       "    </tr>\n",
       "    <tr>\n",
       "      <th>2</th>\n",
       "      <td>3</td>\n",
       "      <td>57317.170063</td>\n",
       "      <td>63.108049</td>\n",
       "      <td>8020.953296</td>\n",
       "      <td>0</td>\n",
       "    </tr>\n",
       "    <tr>\n",
       "      <th>3</th>\n",
       "      <td>4</td>\n",
       "      <td>42709.534201</td>\n",
       "      <td>45.751972</td>\n",
       "      <td>6103.642260</td>\n",
       "      <td>0</td>\n",
       "    </tr>\n",
       "    <tr>\n",
       "      <th>4</th>\n",
       "      <td>5</td>\n",
       "      <td>66952.688845</td>\n",
       "      <td>18.584336</td>\n",
       "      <td>8770.099235</td>\n",
       "      <td>1</td>\n",
       "    </tr>\n",
       "  </tbody>\n",
       "</table>\n",
       "</div>"
      ],
      "text/plain": [
       "   clientid        income        age         loan  default\n",
       "0         1  66155.925095  59.017015  8106.532131        0\n",
       "1         2  34415.153966  48.117153  6564.745018        0\n",
       "2         3  57317.170063  63.108049  8020.953296        0\n",
       "3         4  42709.534201  45.751972  6103.642260        0\n",
       "4         5  66952.688845  18.584336  8770.099235        1"
      ]
     },
     "execution_count": 4,
     "metadata": {},
     "output_type": "execute_result"
    }
   ],
   "source": [
    "df.head()"
   ]
  },
  {
   "cell_type": "code",
   "execution_count": 5,
   "id": "90907768",
   "metadata": {},
   "outputs": [
    {
     "data": {
      "text/plain": [
       "(2000, 5)"
      ]
     },
     "execution_count": 5,
     "metadata": {},
     "output_type": "execute_result"
    }
   ],
   "source": [
    "df.shape"
   ]
  },
  {
   "cell_type": "code",
   "execution_count": 6,
   "id": "f7f62ccd",
   "metadata": {},
   "outputs": [],
   "source": [
    "df = df.dropna()"
   ]
  },
  {
   "cell_type": "code",
   "execution_count": 7,
   "id": "6e9ffd2d",
   "metadata": {},
   "outputs": [
    {
     "data": {
      "text/plain": [
       "(1997, 5)"
      ]
     },
     "execution_count": 7,
     "metadata": {},
     "output_type": "execute_result"
    }
   ],
   "source": [
    "df.shape"
   ]
  },
  {
   "cell_type": "code",
   "execution_count": 8,
   "id": "28e368d5",
   "metadata": {},
   "outputs": [],
   "source": [
    "X_credit = df[['income','age','loan']]\n",
    "y_credit = df['default']"
   ]
  },
  {
   "cell_type": "code",
   "execution_count": 9,
   "id": "3300aa9f",
   "metadata": {},
   "outputs": [],
   "source": [
    "from sklearn.preprocessing import StandardScaler\n",
    "standar_scaler =  StandardScaler()\n",
    "X_credit = standar_scaler.fit_transform(X_credit)"
   ]
  },
  {
   "cell_type": "code",
   "execution_count": 10,
   "id": "da0b55ec",
   "metadata": {},
   "outputs": [
    {
     "data": {
      "text/plain": [
       "array([[ 1.45389775,  1.33686061,  1.20190707],\n",
       "       [-0.76239757,  0.53663921,  0.69574418],\n",
       "       [ 0.8367328 ,  1.63720692,  1.17381186],\n",
       "       ...,\n",
       "       [-0.07139   , -0.93901609,  0.35367319],\n",
       "       [-0.11017022,  1.7006195 , -0.92670314],\n",
       "       [ 1.68296904,  1.12656872,  0.96300639]])"
      ]
     },
     "execution_count": 10,
     "metadata": {},
     "output_type": "execute_result"
    }
   ],
   "source": [
    "X_credit"
   ]
  },
  {
   "cell_type": "code",
   "execution_count": 11,
   "id": "1a4dedb5",
   "metadata": {},
   "outputs": [],
   "source": [
    "from sklearn.model_selection import train_test_split\n",
    "X_credit_treinamento, X_credit_teste, y_credit_treinamento, y_credit_teste = train_test_split(X_credit, y_credit, test_size = 0.25, random_state = 0)"
   ]
  },
  {
   "cell_type": "code",
   "execution_count": 12,
   "id": "1ebf8afa",
   "metadata": {},
   "outputs": [
    {
     "data": {
      "text/plain": [
       "(1497, 3)"
      ]
     },
     "execution_count": 12,
     "metadata": {},
     "output_type": "execute_result"
    }
   ],
   "source": [
    "X_credit_treinamento.shape"
   ]
  },
  {
   "cell_type": "code",
   "execution_count": 13,
   "id": "89489230",
   "metadata": {},
   "outputs": [
    {
     "data": {
      "text/plain": [
       "(1497,)"
      ]
     },
     "execution_count": 13,
     "metadata": {},
     "output_type": "execute_result"
    }
   ],
   "source": [
    "y_credit_treinamento.shape"
   ]
  },
  {
   "cell_type": "code",
   "execution_count": 14,
   "id": "159b17f9",
   "metadata": {},
   "outputs": [
    {
     "data": {
      "text/plain": [
       "((500, 3), (500,))"
      ]
     },
     "execution_count": 14,
     "metadata": {},
     "output_type": "execute_result"
    }
   ],
   "source": [
    "X_credit_teste.shape, y_credit_teste.shape"
   ]
  },
  {
   "cell_type": "code",
   "execution_count": 15,
   "id": "86935802",
   "metadata": {},
   "outputs": [
    {
     "name": "stdout",
     "output_type": "stream",
     "text": [
      "Iteration 1, loss = 0.73847178\n",
      "Iteration 2, loss = 0.59886631\n",
      "Iteration 3, loss = 0.49815449\n",
      "Iteration 4, loss = 0.42227495\n",
      "Iteration 5, loss = 0.36702948\n",
      "Iteration 6, loss = 0.32342553\n",
      "Iteration 7, loss = 0.29020209\n",
      "Iteration 8, loss = 0.26252437\n",
      "Iteration 9, loss = 0.23902718\n",
      "Iteration 10, loss = 0.21842536\n",
      "Iteration 11, loss = 0.20051632\n",
      "Iteration 12, loss = 0.18448436\n",
      "Iteration 13, loss = 0.17061247\n",
      "Iteration 14, loss = 0.15839213\n",
      "Iteration 15, loss = 0.14718930\n",
      "Iteration 16, loss = 0.13761499\n",
      "Iteration 17, loss = 0.12921459\n",
      "Iteration 18, loss = 0.12148023\n",
      "Iteration 19, loss = 0.11474697\n",
      "Iteration 20, loss = 0.10893241\n",
      "Iteration 21, loss = 0.10323069\n",
      "Iteration 22, loss = 0.09844041\n",
      "Iteration 23, loss = 0.09371107\n",
      "Iteration 24, loss = 0.08949836\n",
      "Iteration 25, loss = 0.08551322\n",
      "Iteration 26, loss = 0.08198287\n",
      "Iteration 27, loss = 0.07861025\n",
      "Iteration 28, loss = 0.07550160\n",
      "Iteration 29, loss = 0.07255130\n",
      "Iteration 30, loss = 0.07005947\n",
      "Iteration 31, loss = 0.06758896\n",
      "Iteration 32, loss = 0.06542720\n",
      "Iteration 33, loss = 0.06367446\n",
      "Iteration 34, loss = 0.06186919\n",
      "Iteration 35, loss = 0.05987942\n",
      "Iteration 36, loss = 0.05783615\n",
      "Iteration 37, loss = 0.05613320\n",
      "Iteration 38, loss = 0.05470851\n",
      "Iteration 39, loss = 0.05284733\n",
      "Iteration 40, loss = 0.05138058\n",
      "Iteration 41, loss = 0.05000139\n",
      "Iteration 42, loss = 0.04869216\n",
      "Iteration 43, loss = 0.04760474\n",
      "Iteration 44, loss = 0.04651489\n",
      "Iteration 45, loss = 0.04523053\n",
      "Iteration 46, loss = 0.04414355\n",
      "Iteration 47, loss = 0.04319390\n",
      "Iteration 48, loss = 0.04216368\n",
      "Iteration 49, loss = 0.04141319\n",
      "Iteration 50, loss = 0.04024275\n",
      "Iteration 51, loss = 0.03941245\n",
      "Iteration 52, loss = 0.03887318\n",
      "Iteration 53, loss = 0.03773938\n",
      "Iteration 54, loss = 0.03690460\n",
      "Iteration 55, loss = 0.03652341\n",
      "Iteration 56, loss = 0.03554887\n",
      "Iteration 57, loss = 0.03509383\n",
      "Iteration 58, loss = 0.03414551\n",
      "Iteration 59, loss = 0.03375251\n",
      "Iteration 60, loss = 0.03318429\n",
      "Iteration 61, loss = 0.03243475\n",
      "Iteration 62, loss = 0.03208680\n",
      "Iteration 63, loss = 0.03209182\n",
      "Iteration 64, loss = 0.03081313\n",
      "Iteration 65, loss = 0.03074099\n",
      "Iteration 66, loss = 0.03011164\n",
      "Iteration 67, loss = 0.02954488\n",
      "Iteration 68, loss = 0.02907696\n",
      "Iteration 69, loss = 0.02856749\n",
      "Iteration 70, loss = 0.02808491\n",
      "Iteration 71, loss = 0.02778810\n",
      "Iteration 72, loss = 0.02727559\n",
      "Iteration 73, loss = 0.02689839\n",
      "Iteration 74, loss = 0.02654637\n",
      "Iteration 75, loss = 0.02609781\n",
      "Iteration 76, loss = 0.02591633\n",
      "Iteration 77, loss = 0.02531178\n",
      "Iteration 78, loss = 0.02542915\n",
      "Iteration 79, loss = 0.02483960\n",
      "Iteration 80, loss = 0.02465884\n",
      "Iteration 81, loss = 0.02403074\n",
      "Iteration 82, loss = 0.02388276\n",
      "Iteration 83, loss = 0.02348909\n",
      "Iteration 84, loss = 0.02334815\n",
      "Iteration 85, loss = 0.02283275\n",
      "Iteration 86, loss = 0.02299403\n",
      "Iteration 87, loss = 0.02302353\n",
      "Iteration 88, loss = 0.02253413\n",
      "Iteration 89, loss = 0.02179577\n",
      "Iteration 90, loss = 0.02151181\n",
      "Iteration 91, loss = 0.02140991\n",
      "Iteration 92, loss = 0.02104796\n",
      "Iteration 93, loss = 0.02090441\n",
      "Iteration 94, loss = 0.02059579\n",
      "Iteration 95, loss = 0.02037258\n",
      "Iteration 96, loss = 0.02015074\n",
      "Iteration 97, loss = 0.02010154\n",
      "Iteration 98, loss = 0.01968053\n",
      "Iteration 99, loss = 0.01951898\n",
      "Iteration 100, loss = 0.01933507\n",
      "Iteration 101, loss = 0.01924128\n",
      "Iteration 102, loss = 0.01935292\n",
      "Iteration 103, loss = 0.01917588\n",
      "Iteration 104, loss = 0.01848556\n",
      "Iteration 105, loss = 0.01818002\n",
      "Iteration 106, loss = 0.01807995\n",
      "Iteration 107, loss = 0.01791011\n",
      "Iteration 108, loss = 0.01761419\n",
      "Iteration 109, loss = 0.01750626\n",
      "Iteration 110, loss = 0.01746499\n",
      "Iteration 111, loss = 0.01729941\n",
      "Iteration 112, loss = 0.01695781\n",
      "Iteration 113, loss = 0.01678696\n",
      "Iteration 114, loss = 0.01676604\n",
      "Iteration 115, loss = 0.01656445\n",
      "Iteration 116, loss = 0.01640970\n",
      "Iteration 117, loss = 0.01611122\n",
      "Iteration 118, loss = 0.01597964\n",
      "Iteration 119, loss = 0.01585011\n",
      "Iteration 120, loss = 0.01567215\n",
      "Iteration 121, loss = 0.01614051\n",
      "Iteration 122, loss = 0.01572874\n",
      "Iteration 123, loss = 0.01581263\n",
      "Iteration 124, loss = 0.01514931\n",
      "Iteration 125, loss = 0.01514375\n",
      "Iteration 126, loss = 0.01479786\n",
      "Iteration 127, loss = 0.01500823\n",
      "Iteration 128, loss = 0.01453269\n",
      "Iteration 129, loss = 0.01471413\n",
      "Iteration 130, loss = 0.01442110\n",
      "Iteration 131, loss = 0.01442165\n",
      "Iteration 132, loss = 0.01398927\n",
      "Iteration 133, loss = 0.01386754\n",
      "Iteration 134, loss = 0.01402454\n",
      "Iteration 135, loss = 0.01398652\n",
      "Iteration 136, loss = 0.01360352\n",
      "Iteration 137, loss = 0.01450027\n",
      "Iteration 138, loss = 0.01339707\n",
      "Iteration 139, loss = 0.01364681\n",
      "Iteration 140, loss = 0.01315090\n",
      "Iteration 141, loss = 0.01321899\n",
      "Iteration 142, loss = 0.01303406\n",
      "Iteration 143, loss = 0.01306266\n",
      "Iteration 144, loss = 0.01265244\n",
      "Iteration 145, loss = 0.01259382\n",
      "Iteration 146, loss = 0.01235854\n",
      "Iteration 147, loss = 0.01250604\n",
      "Iteration 148, loss = 0.01238271\n",
      "Iteration 149, loss = 0.01209315\n",
      "Iteration 150, loss = 0.01204416\n",
      "Iteration 151, loss = 0.01194593\n",
      "Iteration 152, loss = 0.01191756\n",
      "Iteration 153, loss = 0.01186448\n",
      "Iteration 154, loss = 0.01178085\n",
      "Iteration 155, loss = 0.01159261\n",
      "Iteration 156, loss = 0.01148741\n",
      "Iteration 157, loss = 0.01130253\n",
      "Iteration 158, loss = 0.01125071\n",
      "Iteration 159, loss = 0.01125654\n",
      "Iteration 160, loss = 0.01104604\n",
      "Iteration 161, loss = 0.01107808\n",
      "Iteration 162, loss = 0.01104604\n",
      "Iteration 163, loss = 0.01078650\n",
      "Iteration 164, loss = 0.01093945\n",
      "Iteration 165, loss = 0.01050014\n",
      "Iteration 166, loss = 0.01092002\n",
      "Iteration 167, loss = 0.01113700\n",
      "Iteration 168, loss = 0.01067345\n",
      "Iteration 169, loss = 0.01040340\n",
      "Iteration 170, loss = 0.01038113\n",
      "Iteration 171, loss = 0.01030843\n",
      "Iteration 172, loss = 0.01036144\n",
      "Iteration 173, loss = 0.01022021\n",
      "Iteration 174, loss = 0.01014135\n",
      "Iteration 175, loss = 0.01011144\n",
      "Iteration 176, loss = 0.00976401\n",
      "Iteration 177, loss = 0.00977608\n",
      "Iteration 178, loss = 0.00973544\n",
      "Iteration 179, loss = 0.00952314\n",
      "Iteration 180, loss = 0.00950155\n",
      "Iteration 181, loss = 0.00934007\n",
      "Iteration 182, loss = 0.00931963\n",
      "Iteration 183, loss = 0.00959865\n",
      "Iteration 184, loss = 0.00913611\n",
      "Iteration 185, loss = 0.00934005\n",
      "Iteration 186, loss = 0.00920783\n",
      "Iteration 187, loss = 0.00910668\n",
      "Iteration 188, loss = 0.00908338\n",
      "Iteration 189, loss = 0.00876795\n",
      "Iteration 190, loss = 0.00896031\n",
      "Iteration 191, loss = 0.00879864\n",
      "Iteration 192, loss = 0.00891304\n",
      "Iteration 193, loss = 0.00858205\n",
      "Iteration 194, loss = 0.00872689\n",
      "Iteration 195, loss = 0.00859228\n",
      "Iteration 196, loss = 0.00856657\n",
      "Iteration 197, loss = 0.00839845\n",
      "Iteration 198, loss = 0.00837625\n",
      "Iteration 199, loss = 0.00836107\n",
      "Iteration 200, loss = 0.00829876\n",
      "Iteration 201, loss = 0.00824594\n",
      "Iteration 202, loss = 0.00817061\n",
      "Iteration 203, loss = 0.00802742\n",
      "Iteration 204, loss = 0.00809729\n",
      "Iteration 205, loss = 0.00809770\n",
      "Iteration 206, loss = 0.00800090\n",
      "Iteration 207, loss = 0.00826990\n",
      "Iteration 208, loss = 0.00771721\n",
      "Iteration 209, loss = 0.00791297\n",
      "Iteration 210, loss = 0.00782052\n",
      "Iteration 211, loss = 0.00766476\n",
      "Iteration 212, loss = 0.00770034\n",
      "Iteration 213, loss = 0.00766843\n",
      "Iteration 214, loss = 0.00760914\n",
      "Iteration 215, loss = 0.00741769\n",
      "Iteration 216, loss = 0.00742968\n",
      "Iteration 217, loss = 0.00733371\n",
      "Iteration 218, loss = 0.00738308\n",
      "Iteration 219, loss = 0.00724312\n",
      "Iteration 220, loss = 0.00742749\n",
      "Iteration 221, loss = 0.00711655\n",
      "Iteration 222, loss = 0.00716753\n",
      "Iteration 223, loss = 0.00715059\n",
      "Iteration 224, loss = 0.00712028\n",
      "Iteration 225, loss = 0.00747651\n",
      "Iteration 226, loss = 0.00725502\n",
      "Iteration 227, loss = 0.00700521\n",
      "Iteration 228, loss = 0.00708478\n",
      "Iteration 229, loss = 0.00692451\n",
      "Iteration 230, loss = 0.00692651\n",
      "Iteration 231, loss = 0.00666182\n",
      "Iteration 232, loss = 0.00681574\n",
      "Iteration 233, loss = 0.00662476\n",
      "Iteration 234, loss = 0.00661235\n",
      "Iteration 235, loss = 0.00657994\n",
      "Iteration 236, loss = 0.00670161\n",
      "Iteration 237, loss = 0.00636399\n",
      "Iteration 238, loss = 0.00665443\n",
      "Iteration 239, loss = 0.00643267\n",
      "Iteration 240, loss = 0.00653030\n",
      "Iteration 241, loss = 0.00635049\n",
      "Iteration 242, loss = 0.00635174\n",
      "Iteration 243, loss = 0.00630193\n",
      "Iteration 244, loss = 0.00630522\n",
      "Iteration 245, loss = 0.00621409\n",
      "Iteration 246, loss = 0.00616874\n",
      "Iteration 247, loss = 0.00619010\n",
      "Iteration 248, loss = 0.00609968\n",
      "Iteration 249, loss = 0.00605684\n",
      "Iteration 250, loss = 0.00599087\n",
      "Iteration 251, loss = 0.00599439\n",
      "Iteration 252, loss = 0.00600322\n",
      "Iteration 253, loss = 0.00625159\n",
      "Iteration 254, loss = 0.00619570\n",
      "Iteration 255, loss = 0.00593239\n",
      "Iteration 256, loss = 0.00597540\n",
      "Iteration 257, loss = 0.00586530\n",
      "Iteration 258, loss = 0.00576699\n",
      "Iteration 259, loss = 0.00573740\n",
      "Iteration 260, loss = 0.00571269\n",
      "Iteration 261, loss = 0.00564742\n",
      "Iteration 262, loss = 0.00584815\n",
      "Iteration 263, loss = 0.00563385\n",
      "Iteration 264, loss = 0.00563113\n",
      "Iteration 265, loss = 0.00546683\n",
      "Iteration 266, loss = 0.00546471\n",
      "Iteration 267, loss = 0.00555224\n",
      "Iteration 268, loss = 0.00542890\n",
      "Iteration 269, loss = 0.00543173\n",
      "Iteration 270, loss = 0.00542291\n",
      "Iteration 271, loss = 0.00536672\n",
      "Iteration 272, loss = 0.00556847\n",
      "Iteration 273, loss = 0.00591431\n",
      "Iteration 274, loss = 0.00519722\n",
      "Iteration 275, loss = 0.00547746\n",
      "Iteration 276, loss = 0.00515808\n",
      "Iteration 277, loss = 0.00524390\n",
      "Iteration 278, loss = 0.00509840\n",
      "Iteration 279, loss = 0.00504136\n",
      "Iteration 280, loss = 0.00509834\n",
      "Iteration 281, loss = 0.00515329\n",
      "Iteration 282, loss = 0.00532107\n",
      "Iteration 283, loss = 0.00498780\n",
      "Iteration 284, loss = 0.00497391\n",
      "Iteration 285, loss = 0.00490779\n",
      "Iteration 286, loss = 0.00502407\n",
      "Iteration 287, loss = 0.00490416\n",
      "Iteration 288, loss = 0.00499082\n",
      "Iteration 289, loss = 0.00469762\n",
      "Iteration 290, loss = 0.00485699\n",
      "Iteration 291, loss = 0.00476442\n",
      "Iteration 292, loss = 0.00470983\n",
      "Iteration 293, loss = 0.00467100\n",
      "Iteration 294, loss = 0.00464901\n",
      "Iteration 295, loss = 0.00480878\n",
      "Iteration 296, loss = 0.00475083\n",
      "Iteration 297, loss = 0.00462951\n",
      "Iteration 298, loss = 0.00470453\n",
      "Iteration 299, loss = 0.00462563\n",
      "Iteration 300, loss = 0.00461331\n",
      "Iteration 301, loss = 0.00460172\n",
      "Iteration 302, loss = 0.00448875\n",
      "Iteration 303, loss = 0.00459689\n",
      "Iteration 304, loss = 0.00434943\n",
      "Iteration 305, loss = 0.00459449\n",
      "Iteration 306, loss = 0.00444961\n",
      "Iteration 307, loss = 0.00441373\n",
      "Iteration 308, loss = 0.00476861\n",
      "Iteration 309, loss = 0.00425822\n",
      "Iteration 310, loss = 0.00486625\n",
      "Iteration 311, loss = 0.00432725\n",
      "Iteration 312, loss = 0.00449611\n",
      "Iteration 313, loss = 0.00428833\n",
      "Iteration 314, loss = 0.00421655\n",
      "Iteration 315, loss = 0.00418299\n",
      "Iteration 316, loss = 0.00411766\n",
      "Iteration 317, loss = 0.00417731\n",
      "Iteration 318, loss = 0.00412600\n",
      "Iteration 319, loss = 0.00413597\n",
      "Iteration 320, loss = 0.00410380\n",
      "Iteration 321, loss = 0.00405967\n",
      "Iteration 322, loss = 0.00406106\n",
      "Iteration 323, loss = 0.00393892\n",
      "Iteration 324, loss = 0.00412101\n",
      "Iteration 325, loss = 0.00390788\n",
      "Iteration 326, loss = 0.00389997\n",
      "Iteration 327, loss = 0.00460734\n",
      "Iteration 328, loss = 0.00394098\n",
      "Iteration 329, loss = 0.00382993\n",
      "Iteration 330, loss = 0.00380699\n",
      "Iteration 331, loss = 0.00406690\n",
      "Iteration 332, loss = 0.00393349\n",
      "Iteration 333, loss = 0.00391501\n",
      "Iteration 334, loss = 0.00374164\n",
      "Iteration 335, loss = 0.00380606\n",
      "Iteration 336, loss = 0.00381584\n",
      "Iteration 337, loss = 0.00378785\n",
      "Iteration 338, loss = 0.00385118\n",
      "Iteration 339, loss = 0.00370556\n",
      "Iteration 340, loss = 0.00361948\n",
      "Iteration 341, loss = 0.00364480\n",
      "Iteration 342, loss = 0.00360550\n",
      "Iteration 343, loss = 0.00362479\n",
      "Iteration 344, loss = 0.00359979\n",
      "Iteration 345, loss = 0.00357116\n",
      "Iteration 346, loss = 0.00354233\n",
      "Iteration 347, loss = 0.00360621\n",
      "Iteration 348, loss = 0.00361023\n",
      "Iteration 349, loss = 0.00365245\n",
      "Iteration 350, loss = 0.00361512\n",
      "Iteration 351, loss = 0.00343009\n",
      "Iteration 352, loss = 0.00356971\n",
      "Iteration 353, loss = 0.00343679\n",
      "Iteration 354, loss = 0.00338167\n",
      "Iteration 355, loss = 0.00333791\n",
      "Iteration 356, loss = 0.00339802\n",
      "Iteration 357, loss = 0.00338941\n",
      "Iteration 358, loss = 0.00337428\n",
      "Iteration 359, loss = 0.00333733\n",
      "Iteration 360, loss = 0.00330621\n",
      "Iteration 361, loss = 0.00325702\n",
      "Iteration 362, loss = 0.00335938\n",
      "Iteration 363, loss = 0.00327973\n",
      "Iteration 364, loss = 0.00328419\n",
      "Iteration 365, loss = 0.00318484\n",
      "Iteration 366, loss = 0.00331726\n",
      "Iteration 367, loss = 0.00332513\n",
      "Iteration 368, loss = 0.00318897\n",
      "Iteration 369, loss = 0.00315988\n",
      "Iteration 370, loss = 0.00311624\n",
      "Iteration 371, loss = 0.00311793\n",
      "Iteration 372, loss = 0.00324368\n",
      "Iteration 373, loss = 0.00301211\n",
      "Iteration 374, loss = 0.00306476\n",
      "Iteration 375, loss = 0.00309428\n",
      "Iteration 376, loss = 0.00325878\n",
      "Iteration 377, loss = 0.00317292\n",
      "Iteration 378, loss = 0.00317723\n",
      "Iteration 379, loss = 0.00324336\n",
      "Iteration 380, loss = 0.00301959\n",
      "Iteration 381, loss = 0.00299496\n",
      "Iteration 382, loss = 0.00294576\n",
      "Iteration 383, loss = 0.00298156\n",
      "Iteration 384, loss = 0.00297960\n",
      "Iteration 385, loss = 0.00285593\n",
      "Iteration 386, loss = 0.00298358\n",
      "Iteration 387, loss = 0.00295355\n",
      "Iteration 388, loss = 0.00288650\n",
      "Iteration 389, loss = 0.00292949\n",
      "Iteration 390, loss = 0.00281957\n",
      "Iteration 391, loss = 0.00305642\n",
      "Iteration 392, loss = 0.00280600\n",
      "Iteration 393, loss = 0.00295592\n",
      "Iteration 394, loss = 0.00287991\n",
      "Iteration 395, loss = 0.00289877\n",
      "Iteration 396, loss = 0.00280117\n",
      "Iteration 397, loss = 0.00286586\n",
      "Iteration 398, loss = 0.00293167\n",
      "Iteration 399, loss = 0.00280643\n",
      "Iteration 400, loss = 0.00270737\n",
      "Iteration 401, loss = 0.00266485\n",
      "Iteration 402, loss = 0.00266678\n",
      "Iteration 403, loss = 0.00267516\n",
      "Iteration 404, loss = 0.00272089\n",
      "Iteration 405, loss = 0.00267316\n",
      "Iteration 406, loss = 0.00262313\n",
      "Iteration 407, loss = 0.00255668\n",
      "Iteration 408, loss = 0.00279491\n",
      "Iteration 409, loss = 0.00273880\n",
      "Iteration 410, loss = 0.00262941\n",
      "Iteration 411, loss = 0.00260414\n",
      "Iteration 412, loss = 0.00252200\n",
      "Iteration 413, loss = 0.00255652\n",
      "Iteration 414, loss = 0.00251489\n",
      "Iteration 415, loss = 0.00261330\n",
      "Iteration 416, loss = 0.00272057\n",
      "Iteration 417, loss = 0.00264350\n",
      "Iteration 418, loss = 0.00248326\n",
      "Iteration 419, loss = 0.00248813\n",
      "Iteration 420, loss = 0.00239806\n",
      "Iteration 421, loss = 0.00249417\n",
      "Iteration 422, loss = 0.00250001\n",
      "Iteration 423, loss = 0.00231440\n",
      "Iteration 424, loss = 0.00251820\n",
      "Iteration 425, loss = 0.00265792\n",
      "Iteration 426, loss = 0.00232870\n",
      "Iteration 427, loss = 0.00249946\n",
      "Iteration 428, loss = 0.00231000\n",
      "Iteration 429, loss = 0.00243534\n",
      "Iteration 430, loss = 0.00233637\n",
      "Iteration 431, loss = 0.00235219\n",
      "Iteration 432, loss = 0.00242246\n",
      "Iteration 433, loss = 0.00231792\n",
      "Iteration 434, loss = 0.00249780\n",
      "Training loss did not improve more than tol=0.000010 for 10 consecutive epochs. Stopping.\n"
     ]
    },
    {
     "data": {
      "text/html": [
       "<style>#sk-container-id-1 {color: black;}#sk-container-id-1 pre{padding: 0;}#sk-container-id-1 div.sk-toggleable {background-color: white;}#sk-container-id-1 label.sk-toggleable__label {cursor: pointer;display: block;width: 100%;margin-bottom: 0;padding: 0.3em;box-sizing: border-box;text-align: center;}#sk-container-id-1 label.sk-toggleable__label-arrow:before {content: \"▸\";float: left;margin-right: 0.25em;color: #696969;}#sk-container-id-1 label.sk-toggleable__label-arrow:hover:before {color: black;}#sk-container-id-1 div.sk-estimator:hover label.sk-toggleable__label-arrow:before {color: black;}#sk-container-id-1 div.sk-toggleable__content {max-height: 0;max-width: 0;overflow: hidden;text-align: left;background-color: #f0f8ff;}#sk-container-id-1 div.sk-toggleable__content pre {margin: 0.2em;color: black;border-radius: 0.25em;background-color: #f0f8ff;}#sk-container-id-1 input.sk-toggleable__control:checked~div.sk-toggleable__content {max-height: 200px;max-width: 100%;overflow: auto;}#sk-container-id-1 input.sk-toggleable__control:checked~label.sk-toggleable__label-arrow:before {content: \"▾\";}#sk-container-id-1 div.sk-estimator input.sk-toggleable__control:checked~label.sk-toggleable__label {background-color: #d4ebff;}#sk-container-id-1 div.sk-label input.sk-toggleable__control:checked~label.sk-toggleable__label {background-color: #d4ebff;}#sk-container-id-1 input.sk-hidden--visually {border: 0;clip: rect(1px 1px 1px 1px);clip: rect(1px, 1px, 1px, 1px);height: 1px;margin: -1px;overflow: hidden;padding: 0;position: absolute;width: 1px;}#sk-container-id-1 div.sk-estimator {font-family: monospace;background-color: #f0f8ff;border: 1px dotted black;border-radius: 0.25em;box-sizing: border-box;margin-bottom: 0.5em;}#sk-container-id-1 div.sk-estimator:hover {background-color: #d4ebff;}#sk-container-id-1 div.sk-parallel-item::after {content: \"\";width: 100%;border-bottom: 1px solid gray;flex-grow: 1;}#sk-container-id-1 div.sk-label:hover label.sk-toggleable__label {background-color: #d4ebff;}#sk-container-id-1 div.sk-serial::before {content: \"\";position: absolute;border-left: 1px solid gray;box-sizing: border-box;top: 0;bottom: 0;left: 50%;z-index: 0;}#sk-container-id-1 div.sk-serial {display: flex;flex-direction: column;align-items: center;background-color: white;padding-right: 0.2em;padding-left: 0.2em;position: relative;}#sk-container-id-1 div.sk-item {position: relative;z-index: 1;}#sk-container-id-1 div.sk-parallel {display: flex;align-items: stretch;justify-content: center;background-color: white;position: relative;}#sk-container-id-1 div.sk-item::before, #sk-container-id-1 div.sk-parallel-item::before {content: \"\";position: absolute;border-left: 1px solid gray;box-sizing: border-box;top: 0;bottom: 0;left: 50%;z-index: -1;}#sk-container-id-1 div.sk-parallel-item {display: flex;flex-direction: column;z-index: 1;position: relative;background-color: white;}#sk-container-id-1 div.sk-parallel-item:first-child::after {align-self: flex-end;width: 50%;}#sk-container-id-1 div.sk-parallel-item:last-child::after {align-self: flex-start;width: 50%;}#sk-container-id-1 div.sk-parallel-item:only-child::after {width: 0;}#sk-container-id-1 div.sk-dashed-wrapped {border: 1px dashed gray;margin: 0 0.4em 0.5em 0.4em;box-sizing: border-box;padding-bottom: 0.4em;background-color: white;}#sk-container-id-1 div.sk-label label {font-family: monospace;font-weight: bold;display: inline-block;line-height: 1.2em;}#sk-container-id-1 div.sk-label-container {text-align: center;}#sk-container-id-1 div.sk-container {/* jupyter's `normalize.less` sets `[hidden] { display: none; }` but bootstrap.min.css set `[hidden] { display: none !important; }` so we also need the `!important` here to be able to override the default hidden behavior on the sphinx rendered scikit-learn.org. See: https://github.com/scikit-learn/scikit-learn/issues/21755 */display: inline-block !important;position: relative;}#sk-container-id-1 div.sk-text-repr-fallback {display: none;}</style><div id=\"sk-container-id-1\" class=\"sk-top-container\"><div class=\"sk-text-repr-fallback\"><pre>MLPClassifier(hidden_layer_sizes=(20, 100), max_iter=1000, tol=1e-05,\n",
       "              verbose=True)</pre><b>In a Jupyter environment, please rerun this cell to show the HTML representation or trust the notebook. <br />On GitHub, the HTML representation is unable to render, please try loading this page with nbviewer.org.</b></div><div class=\"sk-container\" hidden><div class=\"sk-item\"><div class=\"sk-estimator sk-toggleable\"><input class=\"sk-toggleable__control sk-hidden--visually\" id=\"sk-estimator-id-1\" type=\"checkbox\" checked><label for=\"sk-estimator-id-1\" class=\"sk-toggleable__label sk-toggleable__label-arrow\">MLPClassifier</label><div class=\"sk-toggleable__content\"><pre>MLPClassifier(hidden_layer_sizes=(20, 100), max_iter=1000, tol=1e-05,\n",
       "              verbose=True)</pre></div></div></div></div></div>"
      ],
      "text/plain": [
       "MLPClassifier(hidden_layer_sizes=(20, 100), max_iter=1000, tol=1e-05,\n",
       "              verbose=True)"
      ]
     },
     "execution_count": 15,
     "metadata": {},
     "output_type": "execute_result"
    }
   ],
   "source": [
    "from sklearn.neural_network import MLPClassifier\n",
    "rede_neural_credit = MLPClassifier(max_iter = 1000, verbose = True, tol=0.0000100,  learning_rate_init= 0.001,\n",
    "                                  hidden_layer_sizes =(20,100))\n",
    "rede_neural_credit.fit(X_credit_treinamento, y_credit_treinamento)"
   ]
  },
  {
   "cell_type": "code",
   "execution_count": 16,
   "id": "bd854e2f",
   "metadata": {},
   "outputs": [
    {
     "data": {
      "text/plain": [
       "array([0, 0, 0, 1, 0, 0, 0, 0, 0, 0, 0, 0, 0, 0, 0, 0, 0, 0, 1, 0, 0, 0,\n",
       "       1, 1, 0, 1, 1, 0, 0, 0, 0, 0, 0, 0, 0, 0, 0, 0, 0, 1, 0, 0, 0, 0,\n",
       "       0, 0, 0, 0, 0, 0, 0, 0, 0, 1, 0, 0, 0, 0, 0, 0, 0, 0, 0, 0, 0, 0,\n",
       "       0, 0, 0, 0, 0, 0, 1, 0, 0, 0, 0, 1, 1, 0, 0, 0, 0, 0, 1, 0, 0, 0,\n",
       "       0, 1, 1, 0, 0, 0, 0, 0, 0, 0, 0, 0, 0, 1, 0, 0, 0, 1, 0, 0, 0, 0,\n",
       "       0, 0, 0, 0, 0, 0, 0, 0, 0, 0, 0, 1, 0, 1, 0, 1, 0, 0, 1, 0, 0, 0,\n",
       "       0, 0, 0, 0, 0, 0, 0, 0, 0, 0, 0, 0, 0, 0, 0, 1, 0, 0, 0, 0, 1, 0,\n",
       "       0, 0, 0, 0, 0, 0, 0, 0, 0, 0, 0, 0, 0, 0, 0, 0, 0, 0, 0, 1, 0, 0,\n",
       "       0, 1, 0, 0, 0, 0, 0, 0, 0, 0, 0, 0, 0, 0, 1, 0, 0, 0, 1, 0, 0, 0,\n",
       "       0, 0, 0, 0, 0, 0, 0, 1, 0, 0, 0, 0, 0, 0, 0, 0, 0, 0, 0, 0, 0, 0,\n",
       "       1, 1, 0, 0, 0, 0, 0, 0, 0, 1, 0, 0, 0, 0, 1, 1, 1, 0, 0, 0, 0, 0,\n",
       "       0, 0, 0, 0, 0, 0, 1, 0, 0, 0, 0, 0, 0, 0, 0, 0, 0, 0, 1, 0, 0, 0,\n",
       "       0, 0, 0, 0, 0, 0, 0, 0, 0, 0, 1, 0, 0, 0, 0, 0, 0, 0, 0, 0, 0, 0,\n",
       "       0, 1, 0, 0, 0, 0, 0, 0, 0, 0, 1, 0, 0, 0, 0, 0, 0, 0, 0, 0, 1, 0,\n",
       "       1, 0, 0, 0, 0, 0, 0, 1, 0, 1, 0, 1, 0, 0, 0, 0, 0, 0, 0, 0, 0, 0,\n",
       "       1, 0, 0, 0, 0, 0, 0, 0, 0, 0, 0, 1, 0, 0, 0, 0, 0, 0, 0, 0, 0, 0,\n",
       "       0, 0, 0, 0, 0, 0, 0, 0, 1, 0, 0, 0, 0, 0, 1, 0, 0, 0, 0, 0, 1, 0,\n",
       "       0, 0, 1, 0, 1, 0, 0, 0, 0, 0, 0, 0, 0, 0, 0, 1, 1, 0, 0, 0, 0, 0,\n",
       "       0, 0, 0, 0, 0, 0, 0, 0, 0, 1, 1, 0, 1, 0, 0, 0, 0, 0, 0, 0, 0, 1,\n",
       "       0, 0, 0, 0, 0, 0, 0, 0, 1, 0, 0, 0, 0, 0, 0, 0, 0, 0, 0, 0, 0, 0,\n",
       "       0, 1, 1, 0, 1, 0, 0, 0, 0, 0, 0, 0, 0, 0, 0, 0, 0, 0, 0, 0, 0, 1,\n",
       "       0, 1, 1, 0, 0, 0, 0, 0, 0, 0, 0, 1, 1, 0, 0, 1, 0, 1, 0, 0, 0, 0,\n",
       "       1, 0, 0, 0, 0, 0, 1, 0, 0, 0, 0, 0, 0, 0, 0, 0], dtype=int64)"
      ]
     },
     "execution_count": 16,
     "metadata": {},
     "output_type": "execute_result"
    }
   ],
   "source": [
    "previsoes = rede_neural_credit.predict(X_credit_teste)\n",
    "previsoes"
   ]
  },
  {
   "cell_type": "code",
   "execution_count": 17,
   "id": "d0c918a6",
   "metadata": {},
   "outputs": [
    {
     "data": {
      "text/plain": [
       "408     0\n",
       "1191    0\n",
       "677     0\n",
       "1360    1\n",
       "813     0\n",
       "       ..\n",
       "1900    0\n",
       "1524    0\n",
       "1415    0\n",
       "1306    0\n",
       "1767    0\n",
       "Name: default, Length: 500, dtype: int64"
      ]
     },
     "execution_count": 17,
     "metadata": {},
     "output_type": "execute_result"
    }
   ],
   "source": [
    "y_credit_teste"
   ]
  },
  {
   "cell_type": "code",
   "execution_count": 18,
   "id": "3f93ee81",
   "metadata": {},
   "outputs": [
    {
     "data": {
      "text/plain": [
       "0.994"
      ]
     },
     "execution_count": 18,
     "metadata": {},
     "output_type": "execute_result"
    }
   ],
   "source": [
    "from sklearn.metrics import accuracy_score, classification_report\n",
    "accuracy_score(previsoes, y_credit_teste)"
   ]
  },
  {
   "cell_type": "code",
   "execution_count": null,
   "id": "ae6d4b20",
   "metadata": {},
   "outputs": [],
   "source": []
  },
  {
   "cell_type": "code",
   "execution_count": null,
   "id": "164ccfbf",
   "metadata": {},
   "outputs": [],
   "source": []
  }
 ],
 "metadata": {
  "kernelspec": {
   "display_name": "Python 3 (ipykernel)",
   "language": "python",
   "name": "python3"
  },
  "language_info": {
   "codemirror_mode": {
    "name": "ipython",
    "version": 3
   },
   "file_extension": ".py",
   "mimetype": "text/x-python",
   "name": "python",
   "nbconvert_exporter": "python",
   "pygments_lexer": "ipython3",
   "version": "3.11.3"
  }
 },
 "nbformat": 4,
 "nbformat_minor": 5
}
