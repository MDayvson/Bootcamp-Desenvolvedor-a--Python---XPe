{
 "cells": [
  {
   "cell_type": "code",
   "execution_count": 74,
   "id": "6df12b79",
   "metadata": {},
   "outputs": [],
   "source": [
    "import pandas as pd\n",
    "df = pd.read_csv('credit_data.csv')"
   ]
  },
  {
   "cell_type": "code",
   "execution_count": 75,
   "id": "0b8b0ef9",
   "metadata": {},
   "outputs": [
    {
     "data": {
      "text/plain": [
       "Index(['clientid', 'income', 'age', 'loan', 'default'], dtype='object')"
      ]
     },
     "execution_count": 75,
     "metadata": {},
     "output_type": "execute_result"
    }
   ],
   "source": [
    "df.columns"
   ]
  },
  {
   "cell_type": "code",
   "execution_count": 76,
   "id": "f8d94923",
   "metadata": {},
   "outputs": [
    {
     "data": {
      "text/html": [
       "<div>\n",
       "<style scoped>\n",
       "    .dataframe tbody tr th:only-of-type {\n",
       "        vertical-align: middle;\n",
       "    }\n",
       "\n",
       "    .dataframe tbody tr th {\n",
       "        vertical-align: top;\n",
       "    }\n",
       "\n",
       "    .dataframe thead th {\n",
       "        text-align: right;\n",
       "    }\n",
       "</style>\n",
       "<table border=\"1\" class=\"dataframe\">\n",
       "  <thead>\n",
       "    <tr style=\"text-align: right;\">\n",
       "      <th></th>\n",
       "      <th>income</th>\n",
       "      <th>age</th>\n",
       "    </tr>\n",
       "  </thead>\n",
       "  <tbody>\n",
       "    <tr>\n",
       "      <th>0</th>\n",
       "      <td>66155.925095</td>\n",
       "      <td>59.017015</td>\n",
       "    </tr>\n",
       "    <tr>\n",
       "      <th>1</th>\n",
       "      <td>34415.153966</td>\n",
       "      <td>48.117153</td>\n",
       "    </tr>\n",
       "    <tr>\n",
       "      <th>2</th>\n",
       "      <td>57317.170063</td>\n",
       "      <td>63.108049</td>\n",
       "    </tr>\n",
       "    <tr>\n",
       "      <th>3</th>\n",
       "      <td>42709.534201</td>\n",
       "      <td>45.751972</td>\n",
       "    </tr>\n",
       "    <tr>\n",
       "      <th>4</th>\n",
       "      <td>66952.688845</td>\n",
       "      <td>18.584336</td>\n",
       "    </tr>\n",
       "  </tbody>\n",
       "</table>\n",
       "</div>"
      ],
      "text/plain": [
       "         income        age\n",
       "0  66155.925095  59.017015\n",
       "1  34415.153966  48.117153\n",
       "2  57317.170063  63.108049\n",
       "3  42709.534201  45.751972\n",
       "4  66952.688845  18.584336"
      ]
     },
     "execution_count": 76,
     "metadata": {},
     "output_type": "execute_result"
    }
   ],
   "source": [
    "df2 = df[['income','age']]\n",
    "df2.head()"
   ]
  },
  {
   "cell_type": "code",
   "execution_count": 77,
   "id": "eb8b46a1",
   "metadata": {},
   "outputs": [
    {
     "data": {
      "text/html": [
       "<div>\n",
       "<style scoped>\n",
       "    .dataframe tbody tr th:only-of-type {\n",
       "        vertical-align: middle;\n",
       "    }\n",
       "\n",
       "    .dataframe tbody tr th {\n",
       "        vertical-align: top;\n",
       "    }\n",
       "\n",
       "    .dataframe thead th {\n",
       "        text-align: right;\n",
       "    }\n",
       "</style>\n",
       "<table border=\"1\" class=\"dataframe\">\n",
       "  <thead>\n",
       "    <tr style=\"text-align: right;\">\n",
       "      <th></th>\n",
       "      <th>clientid</th>\n",
       "      <th>income</th>\n",
       "      <th>age</th>\n",
       "      <th>loan</th>\n",
       "      <th>default</th>\n",
       "    </tr>\n",
       "  </thead>\n",
       "  <tbody>\n",
       "    <tr>\n",
       "      <th>0</th>\n",
       "      <td>1</td>\n",
       "      <td>66155.925095</td>\n",
       "      <td>59.017015</td>\n",
       "      <td>8106.532131</td>\n",
       "      <td>0</td>\n",
       "    </tr>\n",
       "    <tr>\n",
       "      <th>1</th>\n",
       "      <td>2</td>\n",
       "      <td>34415.153966</td>\n",
       "      <td>48.117153</td>\n",
       "      <td>6564.745018</td>\n",
       "      <td>0</td>\n",
       "    </tr>\n",
       "    <tr>\n",
       "      <th>2</th>\n",
       "      <td>3</td>\n",
       "      <td>57317.170063</td>\n",
       "      <td>63.108049</td>\n",
       "      <td>8020.953296</td>\n",
       "      <td>0</td>\n",
       "    </tr>\n",
       "    <tr>\n",
       "      <th>3</th>\n",
       "      <td>4</td>\n",
       "      <td>42709.534201</td>\n",
       "      <td>45.751972</td>\n",
       "      <td>6103.642260</td>\n",
       "      <td>0</td>\n",
       "    </tr>\n",
       "    <tr>\n",
       "      <th>4</th>\n",
       "      <td>5</td>\n",
       "      <td>66952.688845</td>\n",
       "      <td>18.584336</td>\n",
       "      <td>8770.099235</td>\n",
       "      <td>1</td>\n",
       "    </tr>\n",
       "  </tbody>\n",
       "</table>\n",
       "</div>"
      ],
      "text/plain": [
       "   clientid        income        age         loan  default\n",
       "0         1  66155.925095  59.017015  8106.532131        0\n",
       "1         2  34415.153966  48.117153  6564.745018        0\n",
       "2         3  57317.170063  63.108049  8020.953296        0\n",
       "3         4  42709.534201  45.751972  6103.642260        0\n",
       "4         5  66952.688845  18.584336  8770.099235        1"
      ]
     },
     "execution_count": 77,
     "metadata": {},
     "output_type": "execute_result"
    }
   ],
   "source": [
    "df.head()"
   ]
  },
  {
   "cell_type": "code",
   "execution_count": 78,
   "id": "90907768",
   "metadata": {},
   "outputs": [
    {
     "data": {
      "text/plain": [
       "(2000, 5)"
      ]
     },
     "execution_count": 78,
     "metadata": {},
     "output_type": "execute_result"
    }
   ],
   "source": [
    "df.shape"
   ]
  },
  {
   "cell_type": "code",
   "execution_count": 79,
   "id": "f7f62ccd",
   "metadata": {},
   "outputs": [],
   "source": [
    "df = df.dropna()"
   ]
  },
  {
   "cell_type": "code",
   "execution_count": 80,
   "id": "6e9ffd2d",
   "metadata": {},
   "outputs": [
    {
     "data": {
      "text/plain": [
       "(1997, 5)"
      ]
     },
     "execution_count": 80,
     "metadata": {},
     "output_type": "execute_result"
    }
   ],
   "source": [
    "df.shape"
   ]
  },
  {
   "cell_type": "code",
   "execution_count": 81,
   "id": "28e368d5",
   "metadata": {},
   "outputs": [],
   "source": [
    "X_credit = df[['income','age','loan']]\n",
    "y_credit = df['default']"
   ]
  },
  {
   "cell_type": "code",
   "execution_count": 82,
   "id": "3300aa9f",
   "metadata": {},
   "outputs": [],
   "source": [
    "from sklearn.preprocessing import StandardScaler\n",
    "standar_scaler =  StandardScaler()\n",
    "X_credit = standar_scaler.fit_transform(X_credit)"
   ]
  },
  {
   "cell_type": "code",
   "execution_count": 83,
   "id": "da0b55ec",
   "metadata": {},
   "outputs": [
    {
     "data": {
      "text/plain": [
       "array([[ 1.45389775,  1.33686061,  1.20190707],\n",
       "       [-0.76239757,  0.53663921,  0.69574418],\n",
       "       [ 0.8367328 ,  1.63720692,  1.17381186],\n",
       "       ...,\n",
       "       [-0.07139   , -0.93901609,  0.35367319],\n",
       "       [-0.11017022,  1.7006195 , -0.92670314],\n",
       "       [ 1.68296904,  1.12656872,  0.96300639]])"
      ]
     },
     "execution_count": 83,
     "metadata": {},
     "output_type": "execute_result"
    }
   ],
   "source": [
    "X_credit"
   ]
  },
  {
   "cell_type": "code",
   "execution_count": 84,
   "id": "1a4dedb5",
   "metadata": {},
   "outputs": [],
   "source": [
    "from sklearn.model_selection import train_test_split\n",
    "X_credit_treinamento, X_credit_teste, y_credit_treinamento, y_credit_teste = train_test_split(X_credit, y_credit, test_size = 0.25, random_state = 0)"
   ]
  },
  {
   "cell_type": "code",
   "execution_count": 85,
   "id": "1ebf8afa",
   "metadata": {},
   "outputs": [
    {
     "data": {
      "text/plain": [
       "(1497, 3)"
      ]
     },
     "execution_count": 85,
     "metadata": {},
     "output_type": "execute_result"
    }
   ],
   "source": [
    "X_credit_treinamento.shape"
   ]
  },
  {
   "cell_type": "code",
   "execution_count": 86,
   "id": "89489230",
   "metadata": {},
   "outputs": [
    {
     "data": {
      "text/plain": [
       "(1497,)"
      ]
     },
     "execution_count": 86,
     "metadata": {},
     "output_type": "execute_result"
    }
   ],
   "source": [
    "y_credit_treinamento.shape"
   ]
  },
  {
   "cell_type": "code",
   "execution_count": 87,
   "id": "159b17f9",
   "metadata": {},
   "outputs": [
    {
     "data": {
      "text/plain": [
       "((500, 3), (500,))"
      ]
     },
     "execution_count": 87,
     "metadata": {},
     "output_type": "execute_result"
    }
   ],
   "source": [
    "X_credit_teste.shape, y_credit_teste.shape"
   ]
  },
  {
   "cell_type": "code",
   "execution_count": 88,
   "id": "86935802",
   "metadata": {},
   "outputs": [
    {
     "name": "stdout",
     "output_type": "stream",
     "text": [
      "Iteration 1, loss = 0.68750856\n",
      "Iteration 2, loss = 0.57382694\n",
      "Iteration 3, loss = 0.49445632\n",
      "Iteration 4, loss = 0.43764964\n",
      "Iteration 5, loss = 0.39876269\n",
      "Iteration 6, loss = 0.36802411\n",
      "Iteration 7, loss = 0.34169957\n",
      "Iteration 8, loss = 0.31674369\n",
      "Iteration 9, loss = 0.29252826\n",
      "Iteration 10, loss = 0.26942023\n",
      "Iteration 11, loss = 0.24630210\n",
      "Iteration 12, loss = 0.22406530\n",
      "Iteration 13, loss = 0.20384350\n",
      "Iteration 14, loss = 0.18449694\n",
      "Iteration 15, loss = 0.16727303\n",
      "Iteration 16, loss = 0.15219004\n",
      "Iteration 17, loss = 0.13960546\n",
      "Iteration 18, loss = 0.12866630\n",
      "Iteration 19, loss = 0.11881482\n",
      "Iteration 20, loss = 0.11093857\n",
      "Iteration 21, loss = 0.10398708\n",
      "Iteration 22, loss = 0.09776495\n"
     ]
    },
    {
     "name": "stdout",
     "output_type": "stream",
     "text": [
      "Iteration 23, loss = 0.09232316\n",
      "Iteration 24, loss = 0.08709053\n",
      "Iteration 25, loss = 0.08267836\n",
      "Iteration 26, loss = 0.07874930\n",
      "Iteration 27, loss = 0.07491771\n",
      "Iteration 28, loss = 0.07154793\n",
      "Iteration 29, loss = 0.06843820\n",
      "Iteration 30, loss = 0.06618801\n",
      "Iteration 31, loss = 0.06324977\n",
      "Iteration 32, loss = 0.06096632\n",
      "Iteration 33, loss = 0.05865402\n",
      "Iteration 34, loss = 0.05678223\n",
      "Iteration 35, loss = 0.05487952\n",
      "Iteration 36, loss = 0.05355300\n",
      "Iteration 37, loss = 0.05171106\n",
      "Iteration 38, loss = 0.04982086\n",
      "Iteration 39, loss = 0.04838406\n",
      "Iteration 40, loss = 0.04712059\n",
      "Iteration 41, loss = 0.04595887\n",
      "Iteration 42, loss = 0.04469704\n",
      "Iteration 43, loss = 0.04347184\n",
      "Iteration 44, loss = 0.04219001\n",
      "Iteration 45, loss = 0.04146975\n",
      "Iteration 46, loss = 0.04033518\n",
      "Iteration 47, loss = 0.03942746\n",
      "Iteration 48, loss = 0.03870344\n",
      "Iteration 49, loss = 0.03794026\n",
      "Iteration 50, loss = 0.03698048\n",
      "Iteration 51, loss = 0.03617653\n",
      "Iteration 52, loss = 0.03552226\n",
      "Iteration 53, loss = 0.03498755\n",
      "Iteration 54, loss = 0.03405206\n",
      "Iteration 55, loss = 0.03346398\n",
      "Iteration 56, loss = 0.03322896\n",
      "Iteration 57, loss = 0.03230295\n",
      "Iteration 58, loss = 0.03168058\n",
      "Iteration 59, loss = 0.03112034\n",
      "Iteration 60, loss = 0.03055931\n",
      "Iteration 61, loss = 0.03029913\n",
      "Iteration 62, loss = 0.02962917\n",
      "Iteration 63, loss = 0.02931295\n",
      "Iteration 64, loss = 0.03015047\n",
      "Iteration 65, loss = 0.02811844\n",
      "Iteration 66, loss = 0.02797743\n",
      "Iteration 67, loss = 0.02746954\n",
      "Iteration 68, loss = 0.02717183\n",
      "Iteration 69, loss = 0.02667799\n",
      "Iteration 70, loss = 0.02637917\n",
      "Iteration 71, loss = 0.02572043\n",
      "Iteration 72, loss = 0.02592314\n",
      "Iteration 73, loss = 0.02520865\n",
      "Iteration 74, loss = 0.02487584\n",
      "Iteration 75, loss = 0.02441513\n",
      "Iteration 76, loss = 0.02436597\n",
      "Iteration 77, loss = 0.02402000\n",
      "Iteration 78, loss = 0.02409721\n",
      "Iteration 79, loss = 0.02324955\n",
      "Iteration 80, loss = 0.02285961\n",
      "Iteration 81, loss = 0.02243154\n",
      "Iteration 82, loss = 0.02232893\n",
      "Iteration 83, loss = 0.02192124\n",
      "Iteration 84, loss = 0.02174645\n",
      "Iteration 85, loss = 0.02147173\n",
      "Iteration 86, loss = 0.02133567\n",
      "Iteration 87, loss = 0.02096810\n",
      "Iteration 88, loss = 0.02066226\n",
      "Iteration 89, loss = 0.02022509\n",
      "Iteration 90, loss = 0.02007704\n",
      "Iteration 91, loss = 0.01983784\n",
      "Iteration 92, loss = 0.01956189\n",
      "Iteration 93, loss = 0.01927255\n",
      "Iteration 94, loss = 0.01914420\n",
      "Iteration 95, loss = 0.01885670\n",
      "Iteration 96, loss = 0.01884614\n",
      "Iteration 97, loss = 0.01839773\n",
      "Iteration 98, loss = 0.01824818\n",
      "Iteration 99, loss = 0.01814427\n",
      "Iteration 100, loss = 0.01822505\n",
      "Iteration 101, loss = 0.01773689\n",
      "Iteration 102, loss = 0.01752832\n",
      "Iteration 103, loss = 0.01732088\n",
      "Iteration 104, loss = 0.01710183\n",
      "Iteration 105, loss = 0.01677639\n",
      "Iteration 106, loss = 0.01693901\n",
      "Iteration 107, loss = 0.01646593\n",
      "Iteration 108, loss = 0.01632358\n",
      "Iteration 109, loss = 0.01622154\n",
      "Iteration 110, loss = 0.01594986\n",
      "Iteration 111, loss = 0.01584280\n",
      "Iteration 112, loss = 0.01568350\n",
      "Iteration 113, loss = 0.01548498\n",
      "Iteration 114, loss = 0.01537283\n",
      "Iteration 115, loss = 0.01532646\n",
      "Iteration 116, loss = 0.01547025\n",
      "Iteration 117, loss = 0.01506896\n",
      "Iteration 118, loss = 0.01485592\n",
      "Iteration 119, loss = 0.01458239\n",
      "Iteration 120, loss = 0.01451744\n",
      "Iteration 121, loss = 0.01436635\n",
      "Iteration 122, loss = 0.01429131\n",
      "Iteration 123, loss = 0.01405138\n",
      "Iteration 124, loss = 0.01398175\n",
      "Iteration 125, loss = 0.01401816\n",
      "Iteration 126, loss = 0.01416666\n",
      "Iteration 127, loss = 0.01378219\n",
      "Iteration 128, loss = 0.01364735\n",
      "Iteration 129, loss = 0.01343791\n",
      "Iteration 130, loss = 0.01323375\n",
      "Iteration 131, loss = 0.01307160\n",
      "Iteration 132, loss = 0.01317066\n",
      "Iteration 133, loss = 0.01281002\n",
      "Iteration 134, loss = 0.01279772\n",
      "Iteration 135, loss = 0.01261209\n",
      "Iteration 136, loss = 0.01241360\n",
      "Iteration 137, loss = 0.01274826\n",
      "Iteration 138, loss = 0.01201447\n",
      "Iteration 139, loss = 0.01240713\n",
      "Iteration 140, loss = 0.01204878\n",
      "Iteration 141, loss = 0.01199099\n",
      "Iteration 142, loss = 0.01169811\n",
      "Iteration 143, loss = 0.01166502\n",
      "Iteration 144, loss = 0.01161653\n",
      "Iteration 145, loss = 0.01149999\n",
      "Iteration 146, loss = 0.01131861\n",
      "Iteration 147, loss = 0.01128420\n",
      "Iteration 148, loss = 0.01147520\n",
      "Iteration 149, loss = 0.01112521\n",
      "Iteration 150, loss = 0.01114038\n",
      "Iteration 151, loss = 0.01124185\n",
      "Iteration 152, loss = 0.01094797\n",
      "Iteration 153, loss = 0.01134278\n",
      "Iteration 154, loss = 0.01071037\n",
      "Iteration 155, loss = 0.01056564\n",
      "Iteration 156, loss = 0.01063389\n",
      "Iteration 157, loss = 0.01035637\n",
      "Iteration 158, loss = 0.01038685\n",
      "Iteration 159, loss = 0.01025528\n",
      "Iteration 160, loss = 0.01060788\n",
      "Iteration 161, loss = 0.01038247\n",
      "Iteration 162, loss = 0.01010532\n",
      "Iteration 163, loss = 0.00992623\n",
      "Iteration 164, loss = 0.00989080\n",
      "Iteration 165, loss = 0.01001427\n",
      "Iteration 166, loss = 0.00967717\n",
      "Iteration 167, loss = 0.00956921\n",
      "Iteration 168, loss = 0.00943547\n",
      "Iteration 169, loss = 0.00963902\n",
      "Iteration 170, loss = 0.00953998\n",
      "Iteration 171, loss = 0.00932388\n",
      "Iteration 172, loss = 0.00958121\n",
      "Iteration 173, loss = 0.00907059\n",
      "Iteration 174, loss = 0.00920794\n",
      "Iteration 175, loss = 0.00894526\n",
      "Iteration 176, loss = 0.00918531\n",
      "Iteration 177, loss = 0.00905720\n",
      "Iteration 178, loss = 0.00888631\n",
      "Iteration 179, loss = 0.00883763\n",
      "Iteration 180, loss = 0.00890667\n",
      "Iteration 181, loss = 0.00866983\n",
      "Iteration 182, loss = 0.00860010\n",
      "Iteration 183, loss = 0.00866729\n",
      "Iteration 184, loss = 0.00848245\n",
      "Iteration 185, loss = 0.00844400\n",
      "Iteration 186, loss = 0.00849020\n",
      "Iteration 187, loss = 0.00824626\n",
      "Iteration 188, loss = 0.00824591\n",
      "Iteration 189, loss = 0.00819190\n",
      "Iteration 190, loss = 0.00816687\n",
      "Iteration 191, loss = 0.00846867\n",
      "Iteration 192, loss = 0.00814179\n",
      "Iteration 193, loss = 0.00820035\n",
      "Iteration 194, loss = 0.00808874\n",
      "Iteration 195, loss = 0.00828792\n",
      "Iteration 196, loss = 0.00809413\n",
      "Iteration 197, loss = 0.00781887\n",
      "Iteration 198, loss = 0.00835351\n",
      "Iteration 199, loss = 0.00761634\n",
      "Iteration 200, loss = 0.00808876\n",
      "Iteration 201, loss = 0.00757813\n",
      "Iteration 202, loss = 0.00750634\n",
      "Iteration 203, loss = 0.00756761\n",
      "Iteration 204, loss = 0.00754572\n",
      "Iteration 205, loss = 0.00742454\n",
      "Iteration 206, loss = 0.00726426\n",
      "Iteration 207, loss = 0.00762260\n",
      "Iteration 208, loss = 0.00763164\n",
      "Iteration 209, loss = 0.00731927\n",
      "Iteration 210, loss = 0.00728465\n",
      "Iteration 211, loss = 0.00713855\n",
      "Iteration 212, loss = 0.00715476\n",
      "Iteration 213, loss = 0.00703381\n",
      "Iteration 214, loss = 0.00710472\n",
      "Iteration 215, loss = 0.00695283\n",
      "Iteration 216, loss = 0.00693886\n",
      "Iteration 217, loss = 0.00683170\n",
      "Iteration 218, loss = 0.00704296\n",
      "Iteration 219, loss = 0.00682134\n",
      "Iteration 220, loss = 0.00689504\n",
      "Iteration 221, loss = 0.00672576\n",
      "Iteration 222, loss = 0.00672062\n",
      "Iteration 223, loss = 0.00656113\n",
      "Iteration 224, loss = 0.00662172\n",
      "Iteration 225, loss = 0.00667618\n",
      "Iteration 226, loss = 0.00683322\n",
      "Iteration 227, loss = 0.00652042\n",
      "Iteration 228, loss = 0.00643152\n",
      "Iteration 229, loss = 0.00694276\n",
      "Iteration 230, loss = 0.00676534\n",
      "Iteration 231, loss = 0.00628609\n",
      "Iteration 232, loss = 0.00641617\n",
      "Iteration 233, loss = 0.00625176\n",
      "Iteration 234, loss = 0.00624700\n",
      "Iteration 235, loss = 0.00615549\n",
      "Iteration 236, loss = 0.00638672\n",
      "Iteration 237, loss = 0.00610154\n",
      "Iteration 238, loss = 0.00627535\n",
      "Iteration 239, loss = 0.00630954\n",
      "Iteration 240, loss = 0.00601719\n",
      "Iteration 241, loss = 0.00625423\n",
      "Iteration 242, loss = 0.00617496\n",
      "Iteration 243, loss = 0.00597523\n",
      "Iteration 244, loss = 0.00586987\n",
      "Iteration 245, loss = 0.00594572\n",
      "Iteration 246, loss = 0.00591584\n",
      "Iteration 247, loss = 0.00574794\n",
      "Iteration 248, loss = 0.00577846\n",
      "Iteration 249, loss = 0.00567004\n",
      "Iteration 250, loss = 0.00596914\n",
      "Iteration 251, loss = 0.00571766\n",
      "Iteration 252, loss = 0.00567450\n",
      "Iteration 253, loss = 0.00582206\n",
      "Iteration 254, loss = 0.00565265\n",
      "Iteration 255, loss = 0.00580528\n",
      "Iteration 256, loss = 0.00653673\n",
      "Iteration 257, loss = 0.00573926\n",
      "Iteration 258, loss = 0.00553516\n",
      "Iteration 259, loss = 0.00578595\n",
      "Iteration 260, loss = 0.00531044\n",
      "Iteration 261, loss = 0.00545511\n",
      "Iteration 262, loss = 0.00533571\n",
      "Iteration 263, loss = 0.00532488\n",
      "Iteration 264, loss = 0.00534076\n",
      "Iteration 265, loss = 0.00530240\n",
      "Iteration 266, loss = 0.00530010\n",
      "Iteration 267, loss = 0.00536114\n",
      "Iteration 268, loss = 0.00534194\n",
      "Iteration 269, loss = 0.00521655\n",
      "Iteration 270, loss = 0.00521381\n",
      "Iteration 271, loss = 0.00507134\n",
      "Iteration 272, loss = 0.00510107\n",
      "Iteration 273, loss = 0.00510039\n",
      "Iteration 274, loss = 0.00535807\n",
      "Iteration 275, loss = 0.00493910\n",
      "Iteration 276, loss = 0.00540174\n",
      "Iteration 277, loss = 0.00533129\n",
      "Iteration 278, loss = 0.00503395\n",
      "Iteration 279, loss = 0.00486853\n",
      "Iteration 280, loss = 0.00500152\n",
      "Iteration 281, loss = 0.00500510\n",
      "Iteration 282, loss = 0.00501834\n",
      "Iteration 283, loss = 0.00493492\n",
      "Iteration 284, loss = 0.00477929\n",
      "Iteration 285, loss = 0.00491025\n",
      "Iteration 286, loss = 0.00478128\n",
      "Iteration 287, loss = 0.00485203\n",
      "Iteration 288, loss = 0.00491133\n",
      "Iteration 289, loss = 0.00474467\n",
      "Iteration 290, loss = 0.00485723\n",
      "Iteration 291, loss = 0.00473753\n",
      "Iteration 292, loss = 0.00467617\n",
      "Iteration 293, loss = 0.00457654\n",
      "Iteration 294, loss = 0.00449874\n",
      "Iteration 295, loss = 0.00476798\n",
      "Iteration 296, loss = 0.00461932\n",
      "Iteration 297, loss = 0.00457196\n",
      "Iteration 298, loss = 0.00454394\n",
      "Iteration 299, loss = 0.00446479\n",
      "Iteration 300, loss = 0.00500535\n",
      "Iteration 301, loss = 0.00488095\n",
      "Iteration 302, loss = 0.00464454\n",
      "Iteration 303, loss = 0.00447789\n",
      "Iteration 304, loss = 0.00439588\n",
      "Iteration 305, loss = 0.00433048\n",
      "Iteration 306, loss = 0.00430396\n",
      "Iteration 307, loss = 0.00439318\n",
      "Iteration 308, loss = 0.00425389\n",
      "Iteration 309, loss = 0.00421421\n",
      "Iteration 310, loss = 0.00420210\n",
      "Iteration 311, loss = 0.00417695\n",
      "Iteration 312, loss = 0.00419235\n",
      "Iteration 313, loss = 0.00418358\n",
      "Iteration 314, loss = 0.00403192\n",
      "Iteration 315, loss = 0.00437413\n",
      "Iteration 316, loss = 0.00451707\n",
      "Iteration 317, loss = 0.00444877\n",
      "Iteration 318, loss = 0.00402982\n",
      "Iteration 319, loss = 0.00416945\n",
      "Iteration 320, loss = 0.00421811\n",
      "Iteration 321, loss = 0.00393755\n",
      "Iteration 322, loss = 0.00409459\n",
      "Iteration 323, loss = 0.00399440\n",
      "Iteration 324, loss = 0.00432292\n",
      "Iteration 325, loss = 0.00401056\n",
      "Iteration 326, loss = 0.00431511\n",
      "Iteration 327, loss = 0.00389164\n",
      "Iteration 328, loss = 0.00426575\n",
      "Iteration 329, loss = 0.00381357\n",
      "Iteration 330, loss = 0.00409138\n",
      "Iteration 331, loss = 0.00382842\n",
      "Iteration 332, loss = 0.00401603\n",
      "Iteration 333, loss = 0.00439746\n",
      "Iteration 334, loss = 0.00378003\n",
      "Iteration 335, loss = 0.00395091\n",
      "Iteration 336, loss = 0.00388821\n",
      "Iteration 337, loss = 0.00403838\n",
      "Iteration 338, loss = 0.00389142\n",
      "Iteration 339, loss = 0.00364489\n",
      "Iteration 340, loss = 0.00374872\n",
      "Iteration 341, loss = 0.00387659\n",
      "Iteration 342, loss = 0.00373057\n",
      "Iteration 343, loss = 0.00368693\n",
      "Iteration 344, loss = 0.00353286\n",
      "Iteration 345, loss = 0.00353754\n",
      "Iteration 346, loss = 0.00346314\n",
      "Iteration 347, loss = 0.00344501\n",
      "Iteration 348, loss = 0.00357170\n",
      "Iteration 349, loss = 0.00379439\n",
      "Iteration 350, loss = 0.00352100\n",
      "Iteration 351, loss = 0.00363426\n",
      "Iteration 352, loss = 0.00350143\n",
      "Iteration 353, loss = 0.00334886\n",
      "Iteration 354, loss = 0.00352937\n",
      "Iteration 355, loss = 0.00340753\n",
      "Iteration 356, loss = 0.00330980\n",
      "Iteration 357, loss = 0.00333833\n",
      "Iteration 358, loss = 0.00332623\n",
      "Iteration 359, loss = 0.00329593\n",
      "Iteration 360, loss = 0.00325689\n",
      "Iteration 361, loss = 0.00336525\n",
      "Iteration 362, loss = 0.00344187\n",
      "Iteration 363, loss = 0.00345569\n",
      "Iteration 364, loss = 0.00325127\n",
      "Iteration 365, loss = 0.00332376\n",
      "Iteration 366, loss = 0.00324093\n",
      "Iteration 367, loss = 0.00336972\n",
      "Iteration 368, loss = 0.00347391\n",
      "Iteration 369, loss = 0.00335081\n",
      "Iteration 370, loss = 0.00347714\n",
      "Iteration 371, loss = 0.00317365\n",
      "Iteration 372, loss = 0.00310906\n",
      "Iteration 373, loss = 0.00316908\n",
      "Iteration 374, loss = 0.00316330\n",
      "Iteration 375, loss = 0.00310894\n",
      "Iteration 376, loss = 0.00307437\n",
      "Iteration 377, loss = 0.00311762\n",
      "Iteration 378, loss = 0.00312576\n",
      "Iteration 379, loss = 0.00301012\n",
      "Iteration 380, loss = 0.00314001\n",
      "Iteration 381, loss = 0.00299774\n",
      "Iteration 382, loss = 0.00302963\n",
      "Iteration 383, loss = 0.00293733\n",
      "Iteration 384, loss = 0.00299569\n",
      "Iteration 385, loss = 0.00299084\n",
      "Iteration 386, loss = 0.00296912\n",
      "Iteration 387, loss = 0.00327803\n",
      "Iteration 388, loss = 0.00318228\n",
      "Iteration 389, loss = 0.00295372\n",
      "Iteration 390, loss = 0.00290280\n",
      "Iteration 391, loss = 0.00292166\n",
      "Iteration 392, loss = 0.00310294\n",
      "Iteration 393, loss = 0.00322946\n",
      "Iteration 394, loss = 0.00325705\n",
      "Iteration 395, loss = 0.00300062\n",
      "Iteration 396, loss = 0.00291278\n",
      "Iteration 397, loss = 0.00278432\n",
      "Iteration 398, loss = 0.00292984\n",
      "Iteration 399, loss = 0.00290778\n",
      "Iteration 400, loss = 0.00282505\n",
      "Iteration 401, loss = 0.00302939\n",
      "Iteration 402, loss = 0.00297586\n",
      "Iteration 403, loss = 0.00276082\n",
      "Iteration 404, loss = 0.00295794\n",
      "Iteration 405, loss = 0.00288162\n",
      "Iteration 406, loss = 0.00285143\n",
      "Iteration 407, loss = 0.00277648\n",
      "Iteration 408, loss = 0.00254852\n",
      "Iteration 409, loss = 0.00329367\n",
      "Iteration 410, loss = 0.00302295\n",
      "Iteration 411, loss = 0.00276675\n",
      "Iteration 412, loss = 0.00295375\n",
      "Iteration 413, loss = 0.00262847\n",
      "Iteration 414, loss = 0.00268902\n",
      "Iteration 415, loss = 0.00267373\n",
      "Iteration 416, loss = 0.00252128\n",
      "Iteration 417, loss = 0.00287931\n",
      "Iteration 418, loss = 0.00282441\n",
      "Iteration 419, loss = 0.00287213\n",
      "Iteration 420, loss = 0.00271769\n",
      "Iteration 421, loss = 0.00270168\n",
      "Iteration 422, loss = 0.00252368\n",
      "Iteration 423, loss = 0.00281760\n",
      "Iteration 424, loss = 0.00248889\n",
      "Iteration 425, loss = 0.00284591\n",
      "Iteration 426, loss = 0.00251542\n",
      "Iteration 427, loss = 0.00250300\n",
      "Iteration 428, loss = 0.00254362\n",
      "Iteration 429, loss = 0.00254670\n",
      "Iteration 430, loss = 0.00253792\n",
      "Iteration 431, loss = 0.00252909\n",
      "Iteration 432, loss = 0.00234041\n",
      "Iteration 433, loss = 0.00237956\n",
      "Iteration 434, loss = 0.00244937\n",
      "Iteration 435, loss = 0.00235183\n",
      "Iteration 436, loss = 0.00243023\n",
      "Iteration 437, loss = 0.00263139\n",
      "Iteration 438, loss = 0.00312896\n",
      "Iteration 439, loss = 0.00249022\n",
      "Iteration 440, loss = 0.00264476\n",
      "Iteration 441, loss = 0.00237370\n",
      "Iteration 442, loss = 0.00233329\n",
      "Iteration 443, loss = 0.00244220\n",
      "Training loss did not improve more than tol=0.000010 for 10 consecutive epochs. Stopping.\n"
     ]
    },
    {
     "data": {
      "text/html": [
       "<style>#sk-container-id-5 {color: black;background-color: white;}#sk-container-id-5 pre{padding: 0;}#sk-container-id-5 div.sk-toggleable {background-color: white;}#sk-container-id-5 label.sk-toggleable__label {cursor: pointer;display: block;width: 100%;margin-bottom: 0;padding: 0.3em;box-sizing: border-box;text-align: center;}#sk-container-id-5 label.sk-toggleable__label-arrow:before {content: \"▸\";float: left;margin-right: 0.25em;color: #696969;}#sk-container-id-5 label.sk-toggleable__label-arrow:hover:before {color: black;}#sk-container-id-5 div.sk-estimator:hover label.sk-toggleable__label-arrow:before {color: black;}#sk-container-id-5 div.sk-toggleable__content {max-height: 0;max-width: 0;overflow: hidden;text-align: left;background-color: #f0f8ff;}#sk-container-id-5 div.sk-toggleable__content pre {margin: 0.2em;color: black;border-radius: 0.25em;background-color: #f0f8ff;}#sk-container-id-5 input.sk-toggleable__control:checked~div.sk-toggleable__content {max-height: 200px;max-width: 100%;overflow: auto;}#sk-container-id-5 input.sk-toggleable__control:checked~label.sk-toggleable__label-arrow:before {content: \"▾\";}#sk-container-id-5 div.sk-estimator input.sk-toggleable__control:checked~label.sk-toggleable__label {background-color: #d4ebff;}#sk-container-id-5 div.sk-label input.sk-toggleable__control:checked~label.sk-toggleable__label {background-color: #d4ebff;}#sk-container-id-5 input.sk-hidden--visually {border: 0;clip: rect(1px 1px 1px 1px);clip: rect(1px, 1px, 1px, 1px);height: 1px;margin: -1px;overflow: hidden;padding: 0;position: absolute;width: 1px;}#sk-container-id-5 div.sk-estimator {font-family: monospace;background-color: #f0f8ff;border: 1px dotted black;border-radius: 0.25em;box-sizing: border-box;margin-bottom: 0.5em;}#sk-container-id-5 div.sk-estimator:hover {background-color: #d4ebff;}#sk-container-id-5 div.sk-parallel-item::after {content: \"\";width: 100%;border-bottom: 1px solid gray;flex-grow: 1;}#sk-container-id-5 div.sk-label:hover label.sk-toggleable__label {background-color: #d4ebff;}#sk-container-id-5 div.sk-serial::before {content: \"\";position: absolute;border-left: 1px solid gray;box-sizing: border-box;top: 0;bottom: 0;left: 50%;z-index: 0;}#sk-container-id-5 div.sk-serial {display: flex;flex-direction: column;align-items: center;background-color: white;padding-right: 0.2em;padding-left: 0.2em;position: relative;}#sk-container-id-5 div.sk-item {position: relative;z-index: 1;}#sk-container-id-5 div.sk-parallel {display: flex;align-items: stretch;justify-content: center;background-color: white;position: relative;}#sk-container-id-5 div.sk-item::before, #sk-container-id-5 div.sk-parallel-item::before {content: \"\";position: absolute;border-left: 1px solid gray;box-sizing: border-box;top: 0;bottom: 0;left: 50%;z-index: -1;}#sk-container-id-5 div.sk-parallel-item {display: flex;flex-direction: column;z-index: 1;position: relative;background-color: white;}#sk-container-id-5 div.sk-parallel-item:first-child::after {align-self: flex-end;width: 50%;}#sk-container-id-5 div.sk-parallel-item:last-child::after {align-self: flex-start;width: 50%;}#sk-container-id-5 div.sk-parallel-item:only-child::after {width: 0;}#sk-container-id-5 div.sk-dashed-wrapped {border: 1px dashed gray;margin: 0 0.4em 0.5em 0.4em;box-sizing: border-box;padding-bottom: 0.4em;background-color: white;}#sk-container-id-5 div.sk-label label {font-family: monospace;font-weight: bold;display: inline-block;line-height: 1.2em;}#sk-container-id-5 div.sk-label-container {text-align: center;}#sk-container-id-5 div.sk-container {/* jupyter's `normalize.less` sets `[hidden] { display: none; }` but bootstrap.min.css set `[hidden] { display: none !important; }` so we also need the `!important` here to be able to override the default hidden behavior on the sphinx rendered scikit-learn.org. See: https://github.com/scikit-learn/scikit-learn/issues/21755 */display: inline-block !important;position: relative;}#sk-container-id-5 div.sk-text-repr-fallback {display: none;}</style><div id=\"sk-container-id-5\" class=\"sk-top-container\"><div class=\"sk-text-repr-fallback\"><pre>MLPClassifier(hidden_layer_sizes=(20, 100), max_iter=1000, tol=1e-05,\n",
       "              verbose=True)</pre><b>In a Jupyter environment, please rerun this cell to show the HTML representation or trust the notebook. <br />On GitHub, the HTML representation is unable to render, please try loading this page with nbviewer.org.</b></div><div class=\"sk-container\" hidden><div class=\"sk-item\"><div class=\"sk-estimator sk-toggleable\"><input class=\"sk-toggleable__control sk-hidden--visually\" id=\"sk-estimator-id-5\" type=\"checkbox\" checked><label for=\"sk-estimator-id-5\" class=\"sk-toggleable__label sk-toggleable__label-arrow\">MLPClassifier</label><div class=\"sk-toggleable__content\"><pre>MLPClassifier(hidden_layer_sizes=(20, 100), max_iter=1000, tol=1e-05,\n",
       "              verbose=True)</pre></div></div></div></div></div>"
      ],
      "text/plain": [
       "MLPClassifier(hidden_layer_sizes=(20, 100), max_iter=1000, tol=1e-05,\n",
       "              verbose=True)"
      ]
     },
     "execution_count": 88,
     "metadata": {},
     "output_type": "execute_result"
    }
   ],
   "source": [
    "from sklearn.neural_network import MLPClassifier\n",
    "rede_neural_credit = MLPClassifier(max_iter = 1000, verbose = True, tol=0.0000100,  learning_rate_init= 0.001,\n",
    "                                  hidden_layer_sizes =(20,100))\n",
    "rede_neural_credit.fit(X_credit_treinamento, y_credit_treinamento)"
   ]
  },
  {
   "cell_type": "code",
   "execution_count": 89,
   "id": "bd854e2f",
   "metadata": {},
   "outputs": [
    {
     "data": {
      "text/plain": [
       "array([0, 0, 0, 1, 0, 0, 0, 0, 0, 0, 0, 0, 0, 0, 0, 0, 0, 0, 1, 0, 0, 0,\n",
       "       1, 1, 0, 1, 1, 0, 0, 0, 0, 0, 0, 0, 0, 0, 0, 0, 0, 1, 0, 0, 0, 0,\n",
       "       0, 0, 0, 0, 0, 0, 0, 0, 0, 1, 0, 0, 0, 0, 0, 0, 0, 0, 0, 0, 0, 0,\n",
       "       0, 0, 0, 0, 0, 0, 1, 0, 0, 0, 0, 1, 1, 0, 0, 0, 0, 0, 1, 0, 0, 0,\n",
       "       0, 1, 1, 0, 0, 0, 0, 0, 0, 0, 0, 0, 0, 1, 0, 0, 0, 1, 0, 0, 0, 0,\n",
       "       0, 0, 0, 0, 0, 0, 0, 0, 0, 0, 0, 1, 0, 1, 0, 1, 0, 0, 1, 0, 0, 0,\n",
       "       0, 0, 0, 0, 0, 0, 0, 0, 0, 0, 0, 0, 0, 0, 0, 1, 0, 0, 0, 0, 1, 0,\n",
       "       0, 0, 0, 0, 0, 0, 0, 0, 0, 0, 0, 0, 0, 0, 0, 0, 0, 0, 0, 1, 0, 0,\n",
       "       0, 1, 0, 0, 0, 0, 0, 0, 0, 0, 0, 0, 0, 0, 1, 0, 0, 0, 1, 0, 0, 0,\n",
       "       0, 0, 0, 0, 0, 0, 0, 1, 0, 0, 0, 0, 0, 0, 0, 0, 0, 0, 0, 0, 0, 0,\n",
       "       1, 1, 0, 0, 0, 0, 0, 0, 0, 1, 0, 0, 0, 0, 1, 1, 1, 0, 0, 0, 0, 0,\n",
       "       0, 0, 0, 0, 0, 0, 1, 0, 0, 0, 0, 0, 0, 0, 0, 0, 0, 0, 1, 0, 0, 0,\n",
       "       0, 0, 0, 0, 0, 0, 0, 0, 0, 0, 1, 0, 0, 0, 0, 0, 0, 0, 0, 0, 0, 0,\n",
       "       0, 1, 0, 0, 0, 0, 0, 0, 0, 0, 1, 0, 0, 0, 0, 0, 0, 0, 0, 0, 1, 0,\n",
       "       1, 0, 0, 0, 0, 0, 0, 1, 0, 1, 0, 1, 0, 0, 0, 0, 0, 0, 0, 0, 0, 0,\n",
       "       1, 0, 0, 0, 0, 0, 0, 0, 0, 0, 0, 1, 0, 0, 0, 0, 0, 0, 0, 0, 0, 0,\n",
       "       0, 0, 0, 0, 0, 0, 0, 0, 1, 0, 0, 0, 0, 0, 1, 0, 0, 0, 0, 0, 1, 0,\n",
       "       0, 0, 1, 0, 1, 0, 0, 0, 0, 0, 0, 0, 0, 0, 0, 1, 1, 0, 0, 0, 0, 0,\n",
       "       0, 0, 0, 0, 0, 0, 0, 0, 0, 1, 1, 0, 1, 0, 0, 0, 0, 0, 0, 0, 0, 1,\n",
       "       0, 0, 0, 0, 0, 0, 0, 0, 1, 0, 0, 0, 0, 0, 0, 0, 0, 0, 0, 0, 0, 0,\n",
       "       0, 1, 1, 0, 1, 0, 0, 0, 0, 0, 0, 0, 0, 0, 0, 0, 0, 0, 0, 0, 0, 1,\n",
       "       0, 1, 1, 0, 0, 0, 0, 0, 0, 0, 0, 1, 1, 0, 0, 1, 0, 1, 0, 0, 0, 0,\n",
       "       1, 0, 0, 0, 0, 0, 1, 0, 0, 0, 0, 0, 0, 0, 0, 0], dtype=int64)"
      ]
     },
     "execution_count": 89,
     "metadata": {},
     "output_type": "execute_result"
    }
   ],
   "source": [
    "previsoes = rede_neural_credit.predict(X_credit_teste)\n",
    "previsoes"
   ]
  },
  {
   "cell_type": "code",
   "execution_count": 90,
   "id": "d0c918a6",
   "metadata": {},
   "outputs": [
    {
     "data": {
      "text/plain": [
       "408     0\n",
       "1191    0\n",
       "677     0\n",
       "1360    1\n",
       "813     0\n",
       "       ..\n",
       "1900    0\n",
       "1524    0\n",
       "1415    0\n",
       "1306    0\n",
       "1767    0\n",
       "Name: default, Length: 500, dtype: int64"
      ]
     },
     "execution_count": 90,
     "metadata": {},
     "output_type": "execute_result"
    }
   ],
   "source": [
    "y_credit_teste"
   ]
  },
  {
   "cell_type": "code",
   "execution_count": 91,
   "id": "3f93ee81",
   "metadata": {},
   "outputs": [
    {
     "data": {
      "text/plain": [
       "0.994"
      ]
     },
     "execution_count": 91,
     "metadata": {},
     "output_type": "execute_result"
    }
   ],
   "source": [
    "from sklearn.metrics import accuracy_score, classification_report\n",
    "accuracy_score(previsoes, y_credit_teste)"
   ]
  },
  {
   "cell_type": "code",
   "execution_count": null,
   "id": "ae6d4b20",
   "metadata": {},
   "outputs": [],
   "source": []
  },
  {
   "cell_type": "code",
   "execution_count": null,
   "id": "164ccfbf",
   "metadata": {},
   "outputs": [],
   "source": []
  }
 ],
 "metadata": {
  "kernelspec": {
   "display_name": "Python 3 (ipykernel)",
   "language": "python",
   "name": "python3"
  },
  "language_info": {
   "codemirror_mode": {
    "name": "ipython",
    "version": 3
   },
   "file_extension": ".py",
   "mimetype": "text/x-python",
   "name": "python",
   "nbconvert_exporter": "python",
   "pygments_lexer": "ipython3",
   "version": "3.11.3"
  }
 },
 "nbformat": 4,
 "nbformat_minor": 5
}
