{
 "cells": [
  {
   "cell_type": "code",
   "execution_count": 2,
   "id": "4596f2e4",
   "metadata": {},
   "outputs": [
    {
     "name": "stderr",
     "output_type": "stream",
     "text": [
      "C:\\Users\\GAMERX\\AppData\\Local\\Temp\\ipykernel_11660\\1760706941.py:39: DeprecationWarning: setDaemon() is deprecated, set the daemon attribute instead\n",
      "  thread.setDaemon(True)\n"
     ]
    },
    {
     "ename": "AttributeError",
     "evalue": "'MyThread' object has no attribute 'isAlive'",
     "output_type": "error",
     "traceback": [
      "\u001b[1;31m---------------------------------------------------------------------------\u001b[0m",
      "\u001b[1;31mAttributeError\u001b[0m                            Traceback (most recent call last)",
      "Cell \u001b[1;32mIn[2], line 41\u001b[0m\n\u001b[0;32m     39\u001b[0m     thread\u001b[39m.\u001b[39msetDaemon(\u001b[39mTrue\u001b[39;00m)\n\u001b[0;32m     40\u001b[0m     thread\u001b[39m.\u001b[39mstart()\n\u001b[1;32m---> 41\u001b[0m process_requests(threads)\n\u001b[0;32m     43\u001b[0m \u001b[39mprint\u001b[39m(\u001b[39mf\u001b[39m\u001b[39m'\u001b[39m\u001b[39mTook \u001b[39m\u001b[39m{\u001b[39;00mtime\u001b[39m.\u001b[39mtime()\u001b[39m \u001b[39m\u001b[39m-\u001b[39m\u001b[39m \u001b[39mstart\u001b[39m \u001b[39m\u001b[39m:\u001b[39;00m\u001b[39m .2f\u001b[39m\u001b[39m}\u001b[39;00m\u001b[39m seconds\u001b[39m\u001b[39m'\u001b[39m)\n\u001b[0;32m     45\u001b[0m \u001b[39mprint\u001b[39m(\u001b[39m'\u001b[39m\u001b[39mDone.\u001b[39m\u001b[39m'\u001b[39m)\n",
      "Cell \u001b[1;32mIn[2], line 22\u001b[0m, in \u001b[0;36mprocess_requests\u001b[1;34m(threads, timeout)\u001b[0m\n\u001b[0;32m     19\u001b[0m     alive \u001b[39m=\u001b[39m [\u001b[39m1\u001b[39m \u001b[39mif\u001b[39;00m thread\u001b[39m.\u001b[39misAlive() \u001b[39melse\u001b[39;00m \u001b[39m0\u001b[39m \u001b[39mfor\u001b[39;00m thread \u001b[39min\u001b[39;00m threads]\n\u001b[0;32m     20\u001b[0m     \u001b[39mreturn\u001b[39;00m \u001b[39msum\u001b[39m(alive)\n\u001b[1;32m---> 22\u001b[0m \u001b[39mwhile\u001b[39;00m alive_count() \u001b[39m>\u001b[39m \u001b[39m0\u001b[39m \u001b[39mand\u001b[39;00m timeout \u001b[39m>\u001b[39m \u001b[39m0\u001b[39m:\n\u001b[0;32m     23\u001b[0m     timeout \u001b[39m-\u001b[39m\u001b[39m=\u001b[39m UPDATE_INTERVAL\n\u001b[0;32m     24\u001b[0m     time\u001b[39m.\u001b[39msleep(UPDATE_INTERVAL)\n",
      "Cell \u001b[1;32mIn[2], line 19\u001b[0m, in \u001b[0;36mprocess_requests.<locals>.alive_count\u001b[1;34m()\u001b[0m\n\u001b[0;32m     18\u001b[0m \u001b[39mdef\u001b[39;00m \u001b[39malive_count\u001b[39m():\n\u001b[1;32m---> 19\u001b[0m     alive \u001b[39m=\u001b[39m [\u001b[39m1\u001b[39;49m \u001b[39mif\u001b[39;49;00m thread\u001b[39m.\u001b[39;49misAlive() \u001b[39melse\u001b[39;49;00m \u001b[39m0\u001b[39;49m \u001b[39mfor\u001b[39;49;00m thread \u001b[39min\u001b[39;49;00m threads]\n\u001b[0;32m     20\u001b[0m     \u001b[39mreturn\u001b[39;00m \u001b[39msum\u001b[39m(alive)\n",
      "Cell \u001b[1;32mIn[2], line 19\u001b[0m, in \u001b[0;36m<listcomp>\u001b[1;34m(.0)\u001b[0m\n\u001b[0;32m     18\u001b[0m \u001b[39mdef\u001b[39;00m \u001b[39malive_count\u001b[39m():\n\u001b[1;32m---> 19\u001b[0m     alive \u001b[39m=\u001b[39m [\u001b[39m1\u001b[39m \u001b[39mif\u001b[39;00m thread\u001b[39m.\u001b[39;49misAlive() \u001b[39melse\u001b[39;00m \u001b[39m0\u001b[39m \u001b[39mfor\u001b[39;00m thread \u001b[39min\u001b[39;00m threads]\n\u001b[0;32m     20\u001b[0m     \u001b[39mreturn\u001b[39;00m \u001b[39msum\u001b[39m(alive)\n",
      "\u001b[1;31mAttributeError\u001b[0m: 'MyThread' object has no attribute 'isAlive'"
     ]
    }
   ],
   "source": [
    "import threading\n",
    "import requests\n",
    "import time\n",
    "\n",
    "UPDATE_INTERVAL = 0.01\n",
    "\n",
    "class MyThread(threading.Thread):\n",
    "    def __init__(self, url):\n",
    "        threading.Thread.__init__(self)\n",
    "        self.url = url\n",
    "        self.result = f'{self.url}: Custom timeout'\n",
    "\n",
    "    def run(self):\n",
    "        res = requests.get(self.url)\n",
    "        self.result = f'{self.url}: {res.text}'\n",
    "\n",
    "def process_requests(threads, timeout=5):\n",
    "    def alive_count():\n",
    "        alive = [1 if thread.isAlive() else 0 for thread in threads]\n",
    "        return sum(alive)\n",
    "\n",
    "    while alive_count() > 0 and timeout > 0:\n",
    "        timeout -= UPDATE_INTERVAL\n",
    "        time.sleep(UPDATE_INTERVAL)\n",
    "    for thread in threads:\n",
    "        print(thread.result)\n",
    "\n",
    "urls = [\n",
    "    'http://httpstat.us/200',\n",
    "    'http://httpstat.us/200?sleep=4000',\n",
    "    'http://httpstat.us/200?sleep=20000',\n",
    "    'http://httpstat.us/400'\n",
    "]\n",
    "\n",
    "start = time.time()\n",
    "\n",
    "threads = [MyThread(url) for url in urls]\n",
    "for thread in threads:\n",
    "    thread.setDaemon(True)\n",
    "    thread.start()\n",
    "process_requests(threads)\n",
    "\n",
    "print(f'Took {time.time() - start : .2f} seconds')\n",
    "\n",
    "print('Done.')"
   ]
  },
  {
   "cell_type": "code",
   "execution_count": 5,
   "id": "8a135300",
   "metadata": {},
   "outputs": [
    {
     "ename": "NameError",
     "evalue": "name 'Paes' is not defined",
     "output_type": "error",
     "traceback": [
      "\u001b[1;31m---------------------------------------------------------------------------\u001b[0m",
      "\u001b[1;31mNameError\u001b[0m                                 Traceback (most recent call last)",
      "Cell \u001b[1;32mIn[5], line 2\u001b[0m\n\u001b[0;32m      1\u001b[0m \u001b[39mfor\u001b[39;00m i \u001b[39min\u001b[39;00m \u001b[39mrange\u001b[39m(\u001b[39m1\u001b[39m, \u001b[39m20\u001b[39m):\n\u001b[1;32m----> 2\u001b[0m     paes \u001b[39m=\u001b[39m Paes(\u001b[39m10\u001b[39m)\n\u001b[0;32m      3\u001b[0m     paes\u001b[39m.\u001b[39mcomprar(i)\n",
      "\u001b[1;31mNameError\u001b[0m: name 'Paes' is not defined"
     ]
    }
   ],
   "source": [
    "for i in range(1, 20):\n",
    "    paes = Paes(10)\n",
    "    paes.comprar(i)"
   ]
  },
  {
   "cell_type": "code",
   "execution_count": 4,
   "id": "772863db",
   "metadata": {},
   "outputs": [
    {
     "ename": "NameError",
     "evalue": "name 'Ingressos' is not defined",
     "output_type": "error",
     "traceback": [
      "\u001b[1;31m---------------------------------------------------------------------------\u001b[0m",
      "\u001b[1;31mNameError\u001b[0m                                 Traceback (most recent call last)",
      "Cell \u001b[1;32mIn[4], line 3\u001b[0m\n\u001b[0;32m      1\u001b[0m \u001b[39m## Em algum momento você pode querer usar threads \u001b[39;00m\n\u001b[0;32m      2\u001b[0m \u001b[39m# para querer execultar essas funções\u001b[39;00m\n\u001b[1;32m----> 3\u001b[0m ingressos \u001b[39m=\u001b[39m Ingressos(\u001b[39m10\u001b[39m)\n\u001b[0;32m      4\u001b[0m \u001b[39mfor\u001b[39;00m i \u001b[39min\u001b[39;00m \u001b[39mrange\u001b[39m(\u001b[39m1\u001b[39m, \u001b[39m20\u001b[39m):\n\u001b[0;32m      5\u001b[0m     t \u001b[39m=\u001b[39m Thread(target\u001b[39m=\u001b[39mingressos\u001b[39m.\u001b[39mcomprar, args\u001b[39m=\u001b[39m(i,))\n",
      "\u001b[1;31mNameError\u001b[0m: name 'Ingressos' is not defined"
     ]
    }
   ],
   "source": [
    "## Em algum momento você pode querer usar threads \n",
    "# para querer execultar essas funções\n",
    "ingressos = Ingressos(10)\n",
    "for i in range(1, 20):\n",
    "    t = Thread(target=ingressos.comprar, args=(i,))\n",
    "    t.start()\n",
    "\n",
    "print(ingressos.estoque)\n",
    "\n",
    "#Suponha que em algum momento eu atraso a tarefa por algum motivo\n",
    "#Colocar o sleep abaixo do return\n",
    "\n",
    "from threading import Lock\n",
    "#coloca o self.lock = Lock() abaixo do init da classe\n",
    "\n",
    "# dpois coloca o self.lock.acquire() debaixo da função comprar\n",
    "\n",
    "# Depois coloca self.lock.realease() debaixo da do print de estoque\n",
    "# antes do return self.lock.realese()"
   ]
  },
  {
   "cell_type": "code",
   "execution_count": null,
   "id": "052adb11",
   "metadata": {},
   "outputs": [],
   "source": []
  }
 ],
 "metadata": {
  "kernelspec": {
   "display_name": "Python 3 (ipykernel)",
   "language": "python",
   "name": "python3"
  },
  "language_info": {
   "codemirror_mode": {
    "name": "ipython",
    "version": 3
   },
   "file_extension": ".py",
   "mimetype": "text/x-python",
   "name": "python",
   "nbconvert_exporter": "python",
   "pygments_lexer": "ipython3",
   "version": "3.11.3"
  }
 },
 "nbformat": 4,
 "nbformat_minor": 5
}
