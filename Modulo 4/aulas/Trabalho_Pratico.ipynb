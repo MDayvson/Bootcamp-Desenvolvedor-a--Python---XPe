{
 "cells": [
  {
   "cell_type": "code",
   "execution_count": 27,
   "id": "1a4dedb5",
   "metadata": {},
   "outputs": [
    {
     "name": "stderr",
     "output_type": "stream",
     "text": [
      "c:\\Users\\GAMERX\\AppData\\Local\\Programs\\Python\\Python311\\Lib\\site-packages\\sklearn\\datasets\\_openml.py:1002: FutureWarning: The default value of `parser` will change from `'liac-arff'` to `'auto'` in 1.4. You can set `parser='auto'` to silence this warning. Therefore, an `ImportError` will be raised from 1.4 if the dataset is dense and pandas is not installed. Note that the pandas parser may return different data types. See the Notes Section in fetch_openml's API doc for details.\n",
      "  warn(\n"
     ]
    }
   ],
   "source": [
    "import pandas as pd\n",
    "import numpy as np\n",
    "\n",
    "data_url = \"http://lib.stat.cmu.edu/datasets/boston\"\n",
    "raw_df = pd.read_csv(data_url, sep=\"\\s+\", skiprows=22, header=None)\n",
    "data = np.hstack([raw_df.values[::2, :], raw_df.values[1::2, :2]])\n",
    "target = raw_df.values[1::2, 2]\n",
    "\n",
    "from sklearn.datasets import fetch_california_housing\n",
    "housing = fetch_california_housing()\n",
    "\n",
    "from sklearn.datasets import fetch_openml\n",
    "housing = fetch_openml(name=\"house_prices\", as_frame=True)"
   ]
  },
  {
   "cell_type": "code",
   "execution_count": 28,
   "id": "a49772c0",
   "metadata": {},
   "outputs": [],
   "source": [
    "x = data\n",
    "y = target"
   ]
  },
  {
   "cell_type": "code",
   "execution_count": 29,
   "id": "de0390b4",
   "metadata": {},
   "outputs": [],
   "source": [
    "from sklearn.model_selection import train_test_split\n",
    "x_train, x_teste, y_train, y_teste = train_test_split(x, y, test_size = 0.2, random_state = 42)"
   ]
  },
  {
   "cell_type": "code",
   "execution_count": 30,
   "id": "1ebf8afa",
   "metadata": {},
   "outputs": [
    {
     "data": {
      "text/plain": [
       "(404, 13)"
      ]
     },
     "execution_count": 30,
     "metadata": {},
     "output_type": "execute_result"
    }
   ],
   "source": [
    "x_train.shape"
   ]
  },
  {
   "cell_type": "code",
   "execution_count": 31,
   "id": "89489230",
   "metadata": {},
   "outputs": [
    {
     "data": {
      "text/plain": [
       "(404,)"
      ]
     },
     "execution_count": 31,
     "metadata": {},
     "output_type": "execute_result"
    }
   ],
   "source": [
    "y_train.shape"
   ]
  },
  {
   "cell_type": "code",
   "execution_count": 34,
   "id": "60fbe603",
   "metadata": {},
   "outputs": [
    {
     "ename": "NameError",
     "evalue": "name 'model_MLP' is not defined",
     "output_type": "error",
     "traceback": [
      "\u001b[1;31m---------------------------------------------------------------------------\u001b[0m",
      "\u001b[1;31mNameError\u001b[0m                                 Traceback (most recent call last)",
      "Cell \u001b[1;32mIn[34], line 1\u001b[0m\n\u001b[1;32m----> 1\u001b[0m model_MLP\u001b[39m.\u001b[39madd(keras\u001b[39m.\u001b[39mlayers\u001b[39m.\u001b[39mDense(units\u001b[39m=\u001b[39m\u001b[39m4\u001b[39m, activation\u001b[39m=\u001b[39m\u001b[39m'\u001b[39m\u001b[39mrelu\u001b[39m\u001b[39m'\u001b[39m, input_shape\u001b[39m=\u001b[39mx_train\u001b[39m.\u001b[39mshape[\u001b[39m1\u001b[39m:]))\n\u001b[0;32m      3\u001b[0m model_MLP\u001b[39m.\u001b[39madd(keras\u001b[39m.\u001b[39mlayers\u001b[39m.\u001b[39mDense(units\u001b[39m=\u001b[39m\u001b[39m1\u001b[39m,activation\u001b[39m=\u001b[39m\u001b[39m'\u001b[39m\u001b[39mlinear\u001b[39m\u001b[39m'\u001b[39m))\n",
      "\u001b[1;31mNameError\u001b[0m: name 'model_MLP' is not defined"
     ]
    }
   ],
   "source": [
    "model_MLP.add(keras.layers.Dense(units=4, activation='relu', input_shape=x_train.shape[1:]))\n",
    "\n",
    "model_MLP.add(keras.layers.Dense(units=1,activation='linear'))"
   ]
  },
  {
   "cell_type": "code",
   "execution_count": null,
   "id": "86935802",
   "metadata": {},
   "outputs": [
    {
     "ename": "ValueError",
     "evalue": "Unknown label type: (array([12. , 19.9, 19.4, 13.4, 18.2, 24.6, 21.1, 24.7,  8.7, 27.5, 20.7,\n       36.2, 31.6, 11.7, 39.8, 13.9, 21.8, 23.7, 17.6, 24.4,  8.8, 19.2,\n       25.3, 20.4, 23.1, 37.9, 15.6, 45.4, 15.7, 22.6, 14.5, 18.7, 17.8,\n       16.1, 20.6, 31.6, 29.1, 15.6, 17.5, 22.5, 19.4, 19.3,  8.5, 20.6,\n       17. , 17.1, 14.5, 50. , 14.3, 12.6, 28.7, 21.2, 19.3, 23.1, 19.1,\n       25. , 33.4,  5. , 29.6, 18.7, 21.7, 23.1, 22.8, 21. , 48.8, 14.6,\n       16.6, 27.1, 20.1, 19.8, 21. , 41.3, 23.2, 20.4, 18.5, 29.4, 36.4,\n       24.4, 11.8, 13.8, 12.3, 17.8, 33.1, 26.7, 13.4, 14.4, 50. , 22. ,\n       19.9, 23.8, 17.5, 12.7,  5.6, 31.1, 26.2, 19.4, 16.7, 13.8, 22.9,\n       15.3, 27.5, 36.1, 22.9, 24.5, 25. , 50. , 34.9, 31.7, 24.1, 22.1,\n       14.1, 42.8, 19.3, 32.2, 26.4, 21.8, 21.7,  8.3, 46.7, 43.1, 31.5,\n       10.5, 16.7, 20. , 33.3, 17.8, 50. , 20.5, 23.2, 13.1, 19.6, 22.8,\n       28.7, 30.7, 22.9, 21.9, 23.9, 32.7, 24.3, 21.5, 24.6,  8.5, 26.4,\n       23.1, 15. ,  8.8, 19.3, 23.9, 24.7, 19.8, 23.8, 13.3, 29. , 27.1,\n       34.6, 13.3, 15.6, 12.5, 14.6, 11. , 24.8, 17.3,  8.1, 21.4, 15.6,\n       23.3, 32. , 38.7, 30.1, 20.5, 32.5, 42.3, 24.3, 20.6, 22. , 18.2,\n       15. ,  6.3, 20.1, 21.4, 28.4, 30.1, 20.8, 23. , 14.3, 11.7, 37.3,\n       17.1, 10.4, 23. , 22.7, 20.3, 21.7, 50. ,  8.4, 18.8, 37.2, 16.1,\n       16.5, 22.2, 20.6, 13.5, 48.3, 23.8, 22.7, 17.4, 30.3, 36. , 41.7,\n       18.3, 22. , 18.6, 44.8, 11.9, 18.7, 16.2, 22. ,  7.2, 20.4, 13.8,\n       13. , 18.4, 23.1, 21.2, 23.1, 23.5, 50. , 26.6, 22.2, 50. ,  8.3,\n       23.3, 21.7, 18.9, 18.4, 17.4, 13.4, 12.1, 26.6, 21.7, 28.4, 20.5,\n       22. , 13.9, 11.3, 29.9, 26.6, 10.5, 23.2, 24.4, 46. , 21.9,  7.5,\n       36.2, 44. , 17.8, 27.5, 37.6, 14.1, 28.1, 10.2, 19.1, 43.8, 27.9,\n       25. , 16. , 16.6, 13.2, 50. , 22.2, 32.9, 15.2, 14.8, 13.8, 24.3,\n       33.8, 22.3, 50. ,  9.5, 13.3, 22.2, 18.1, 18. , 25. , 16.5, 23. ,\n       20.1, 33. , 24.8, 18.2, 13.1, 34.9, 10.2, 19.9, 27.9, 23.3, 35.1,\n       12.8, 22. , 18.5, 25.1, 22.5, 22.4, 28.6, 19.5, 24.8, 24.5, 21.4,\n       33.1, 22.9, 20.7, 24.1, 50. , 24.7, 28.7,  7.2, 37. , 20.3, 30.1,\n       19.5, 23.4, 11.5, 21.6, 14.9, 15.2, 19.4,  8.4, 28. , 22.6, 13.5,\n       14.5, 31. , 10.9, 21.9, 22. , 19. , 21.4, 25. , 17.5, 36.5, 20.1,\n       20.4, 16.2, 23.6,  7.4, 35.2, 50. , 19.3, 21.2, 15.6, 33.4, 19.1,\n       21. , 23.7, 18.9, 16.8, 19.7, 17.7, 22.6, 11.8, 34.9, 20.6, 20.2,\n       32. , 22.3, 23.3, 14.4, 31.2, 24. , 29.6, 19.6, 21.6, 20. , 27. ,\n       33.2, 15.4, 30.5,  7.2, 23.9, 16.3, 23.9, 50. , 22.8, 15.4, 19.2,\n       19.6, 22.6, 33.2, 50. , 22.2, 14.9, 19.8, 23.7, 19. , 20.3, 11.9,\n       13.6, 29.8, 21.7, 19.5, 21.1, 24.5, 13.4, 18.6]),)",
     "output_type": "error",
     "traceback": [
      "\u001b[1;31m---------------------------------------------------------------------------\u001b[0m",
      "\u001b[1;31mValueError\u001b[0m                                Traceback (most recent call last)",
      "Cell \u001b[1;32mIn[24], line 4\u001b[0m\n\u001b[0;32m      1\u001b[0m \u001b[39mfrom\u001b[39;00m \u001b[39msklearn\u001b[39;00m\u001b[39m.\u001b[39;00m\u001b[39mneural_network\u001b[39;00m \u001b[39mimport\u001b[39;00m MLPClassifier\n\u001b[0;32m      2\u001b[0m rede_neural_credit \u001b[39m=\u001b[39m MLPClassifier(max_iter \u001b[39m=\u001b[39m \u001b[39m1000\u001b[39m, verbose \u001b[39m=\u001b[39m \u001b[39mTrue\u001b[39;00m, tol\u001b[39m=\u001b[39m\u001b[39m0.0000100\u001b[39m,  learning_rate_init\u001b[39m=\u001b[39m \u001b[39m0.001\u001b[39m,\n\u001b[0;32m      3\u001b[0m                                   hidden_layer_sizes \u001b[39m=\u001b[39m(\u001b[39m20\u001b[39m,\u001b[39m100\u001b[39m))\n\u001b[1;32m----> 4\u001b[0m rede_neural_credit\u001b[39m.\u001b[39;49mfit(x_train, y_train)\n",
      "File \u001b[1;32mc:\\Users\\GAMERX\\AppData\\Local\\Programs\\Python\\Python311\\Lib\\site-packages\\sklearn\\base.py:1151\u001b[0m, in \u001b[0;36m_fit_context.<locals>.decorator.<locals>.wrapper\u001b[1;34m(estimator, *args, **kwargs)\u001b[0m\n\u001b[0;32m   1144\u001b[0m     estimator\u001b[39m.\u001b[39m_validate_params()\n\u001b[0;32m   1146\u001b[0m \u001b[39mwith\u001b[39;00m config_context(\n\u001b[0;32m   1147\u001b[0m     skip_parameter_validation\u001b[39m=\u001b[39m(\n\u001b[0;32m   1148\u001b[0m         prefer_skip_nested_validation \u001b[39mor\u001b[39;00m global_skip_validation\n\u001b[0;32m   1149\u001b[0m     )\n\u001b[0;32m   1150\u001b[0m ):\n\u001b[1;32m-> 1151\u001b[0m     \u001b[39mreturn\u001b[39;00m fit_method(estimator, \u001b[39m*\u001b[39;49margs, \u001b[39m*\u001b[39;49m\u001b[39m*\u001b[39;49mkwargs)\n",
      "File \u001b[1;32mc:\\Users\\GAMERX\\AppData\\Local\\Programs\\Python\\Python311\\Lib\\site-packages\\sklearn\\neural_network\\_multilayer_perceptron.py:753\u001b[0m, in \u001b[0;36mBaseMultilayerPerceptron.fit\u001b[1;34m(self, X, y)\u001b[0m\n\u001b[0;32m    735\u001b[0m \u001b[39m@_fit_context\u001b[39m(prefer_skip_nested_validation\u001b[39m=\u001b[39m\u001b[39mTrue\u001b[39;00m)\n\u001b[0;32m    736\u001b[0m \u001b[39mdef\u001b[39;00m \u001b[39mfit\u001b[39m(\u001b[39mself\u001b[39m, X, y):\n\u001b[0;32m    737\u001b[0m \u001b[39m    \u001b[39m\u001b[39m\"\"\"Fit the model to data matrix X and target(s) y.\u001b[39;00m\n\u001b[0;32m    738\u001b[0m \n\u001b[0;32m    739\u001b[0m \u001b[39m    Parameters\u001b[39;00m\n\u001b[1;32m   (...)\u001b[0m\n\u001b[0;32m    751\u001b[0m \u001b[39m        Returns a trained MLP model.\u001b[39;00m\n\u001b[0;32m    752\u001b[0m \u001b[39m    \"\"\"\u001b[39;00m\n\u001b[1;32m--> 753\u001b[0m     \u001b[39mreturn\u001b[39;00m \u001b[39mself\u001b[39;49m\u001b[39m.\u001b[39;49m_fit(X, y, incremental\u001b[39m=\u001b[39;49m\u001b[39mFalse\u001b[39;49;00m)\n",
      "File \u001b[1;32mc:\\Users\\GAMERX\\AppData\\Local\\Programs\\Python\\Python311\\Lib\\site-packages\\sklearn\\neural_network\\_multilayer_perceptron.py:442\u001b[0m, in \u001b[0;36mBaseMultilayerPerceptron._fit\u001b[1;34m(self, X, y, incremental)\u001b[0m\n\u001b[0;32m    435\u001b[0m     \u001b[39mraise\u001b[39;00m \u001b[39mValueError\u001b[39;00m(\n\u001b[0;32m    436\u001b[0m         \u001b[39m\"\u001b[39m\u001b[39mhidden_layer_sizes must be > 0, got \u001b[39m\u001b[39m%s\u001b[39;00m\u001b[39m.\u001b[39m\u001b[39m\"\u001b[39m \u001b[39m%\u001b[39m hidden_layer_sizes\n\u001b[0;32m    437\u001b[0m     )\n\u001b[0;32m    438\u001b[0m first_pass \u001b[39m=\u001b[39m \u001b[39mnot\u001b[39;00m \u001b[39mhasattr\u001b[39m(\u001b[39mself\u001b[39m, \u001b[39m\"\u001b[39m\u001b[39mcoefs_\u001b[39m\u001b[39m\"\u001b[39m) \u001b[39mor\u001b[39;00m (\n\u001b[0;32m    439\u001b[0m     \u001b[39mnot\u001b[39;00m \u001b[39mself\u001b[39m\u001b[39m.\u001b[39mwarm_start \u001b[39mand\u001b[39;00m \u001b[39mnot\u001b[39;00m incremental\n\u001b[0;32m    440\u001b[0m )\n\u001b[1;32m--> 442\u001b[0m X, y \u001b[39m=\u001b[39m \u001b[39mself\u001b[39;49m\u001b[39m.\u001b[39;49m_validate_input(X, y, incremental, reset\u001b[39m=\u001b[39;49mfirst_pass)\n\u001b[0;32m    444\u001b[0m n_samples, n_features \u001b[39m=\u001b[39m X\u001b[39m.\u001b[39mshape\n\u001b[0;32m    446\u001b[0m \u001b[39m# Ensure y is 2D\u001b[39;00m\n",
      "File \u001b[1;32mc:\\Users\\GAMERX\\AppData\\Local\\Programs\\Python\\Python311\\Lib\\site-packages\\sklearn\\neural_network\\_multilayer_perceptron.py:1124\u001b[0m, in \u001b[0;36mMLPClassifier._validate_input\u001b[1;34m(self, X, y, incremental, reset)\u001b[0m\n\u001b[0;32m   1122\u001b[0m \u001b[39mif\u001b[39;00m (\u001b[39mnot\u001b[39;00m \u001b[39mhasattr\u001b[39m(\u001b[39mself\u001b[39m, \u001b[39m\"\u001b[39m\u001b[39mclasses_\u001b[39m\u001b[39m\"\u001b[39m)) \u001b[39mor\u001b[39;00m (\u001b[39mnot\u001b[39;00m \u001b[39mself\u001b[39m\u001b[39m.\u001b[39mwarm_start \u001b[39mand\u001b[39;00m \u001b[39mnot\u001b[39;00m incremental):\n\u001b[0;32m   1123\u001b[0m     \u001b[39mself\u001b[39m\u001b[39m.\u001b[39m_label_binarizer \u001b[39m=\u001b[39m LabelBinarizer()\n\u001b[1;32m-> 1124\u001b[0m     \u001b[39mself\u001b[39;49m\u001b[39m.\u001b[39;49m_label_binarizer\u001b[39m.\u001b[39;49mfit(y)\n\u001b[0;32m   1125\u001b[0m     \u001b[39mself\u001b[39m\u001b[39m.\u001b[39mclasses_ \u001b[39m=\u001b[39m \u001b[39mself\u001b[39m\u001b[39m.\u001b[39m_label_binarizer\u001b[39m.\u001b[39mclasses_\n\u001b[0;32m   1126\u001b[0m \u001b[39melse\u001b[39;00m:\n",
      "File \u001b[1;32mc:\\Users\\GAMERX\\AppData\\Local\\Programs\\Python\\Python311\\Lib\\site-packages\\sklearn\\base.py:1151\u001b[0m, in \u001b[0;36m_fit_context.<locals>.decorator.<locals>.wrapper\u001b[1;34m(estimator, *args, **kwargs)\u001b[0m\n\u001b[0;32m   1144\u001b[0m     estimator\u001b[39m.\u001b[39m_validate_params()\n\u001b[0;32m   1146\u001b[0m \u001b[39mwith\u001b[39;00m config_context(\n\u001b[0;32m   1147\u001b[0m     skip_parameter_validation\u001b[39m=\u001b[39m(\n\u001b[0;32m   1148\u001b[0m         prefer_skip_nested_validation \u001b[39mor\u001b[39;00m global_skip_validation\n\u001b[0;32m   1149\u001b[0m     )\n\u001b[0;32m   1150\u001b[0m ):\n\u001b[1;32m-> 1151\u001b[0m     \u001b[39mreturn\u001b[39;00m fit_method(estimator, \u001b[39m*\u001b[39;49margs, \u001b[39m*\u001b[39;49m\u001b[39m*\u001b[39;49mkwargs)\n",
      "File \u001b[1;32mc:\\Users\\GAMERX\\AppData\\Local\\Programs\\Python\\Python311\\Lib\\site-packages\\sklearn\\preprocessing\\_label.py:306\u001b[0m, in \u001b[0;36mLabelBinarizer.fit\u001b[1;34m(self, y)\u001b[0m\n\u001b[0;32m    303\u001b[0m     \u001b[39mraise\u001b[39;00m \u001b[39mValueError\u001b[39;00m(\u001b[39m\"\u001b[39m\u001b[39my has 0 samples: \u001b[39m\u001b[39m%r\u001b[39;00m\u001b[39m\"\u001b[39m \u001b[39m%\u001b[39m y)\n\u001b[0;32m    305\u001b[0m \u001b[39mself\u001b[39m\u001b[39m.\u001b[39msparse_input_ \u001b[39m=\u001b[39m sp\u001b[39m.\u001b[39missparse(y)\n\u001b[1;32m--> 306\u001b[0m \u001b[39mself\u001b[39m\u001b[39m.\u001b[39mclasses_ \u001b[39m=\u001b[39m unique_labels(y)\n\u001b[0;32m    307\u001b[0m \u001b[39mreturn\u001b[39;00m \u001b[39mself\u001b[39m\n",
      "File \u001b[1;32mc:\\Users\\GAMERX\\AppData\\Local\\Programs\\Python\\Python311\\Lib\\site-packages\\sklearn\\utils\\multiclass.py:104\u001b[0m, in \u001b[0;36munique_labels\u001b[1;34m(*ys)\u001b[0m\n\u001b[0;32m    102\u001b[0m _unique_labels \u001b[39m=\u001b[39m _FN_UNIQUE_LABELS\u001b[39m.\u001b[39mget(label_type, \u001b[39mNone\u001b[39;00m)\n\u001b[0;32m    103\u001b[0m \u001b[39mif\u001b[39;00m \u001b[39mnot\u001b[39;00m _unique_labels:\n\u001b[1;32m--> 104\u001b[0m     \u001b[39mraise\u001b[39;00m \u001b[39mValueError\u001b[39;00m(\u001b[39m\"\u001b[39m\u001b[39mUnknown label type: \u001b[39m\u001b[39m%s\u001b[39;00m\u001b[39m\"\u001b[39m \u001b[39m%\u001b[39m \u001b[39mrepr\u001b[39m(ys))\n\u001b[0;32m    106\u001b[0m \u001b[39mif\u001b[39;00m is_array_api_compliant:\n\u001b[0;32m    107\u001b[0m     \u001b[39m# array_api does not allow for mixed dtypes\u001b[39;00m\n\u001b[0;32m    108\u001b[0m     unique_ys \u001b[39m=\u001b[39m xp\u001b[39m.\u001b[39mconcat([_unique_labels(y) \u001b[39mfor\u001b[39;00m y \u001b[39min\u001b[39;00m ys])\n",
      "\u001b[1;31mValueError\u001b[0m: Unknown label type: (array([12. , 19.9, 19.4, 13.4, 18.2, 24.6, 21.1, 24.7,  8.7, 27.5, 20.7,\n       36.2, 31.6, 11.7, 39.8, 13.9, 21.8, 23.7, 17.6, 24.4,  8.8, 19.2,\n       25.3, 20.4, 23.1, 37.9, 15.6, 45.4, 15.7, 22.6, 14.5, 18.7, 17.8,\n       16.1, 20.6, 31.6, 29.1, 15.6, 17.5, 22.5, 19.4, 19.3,  8.5, 20.6,\n       17. , 17.1, 14.5, 50. , 14.3, 12.6, 28.7, 21.2, 19.3, 23.1, 19.1,\n       25. , 33.4,  5. , 29.6, 18.7, 21.7, 23.1, 22.8, 21. , 48.8, 14.6,\n       16.6, 27.1, 20.1, 19.8, 21. , 41.3, 23.2, 20.4, 18.5, 29.4, 36.4,\n       24.4, 11.8, 13.8, 12.3, 17.8, 33.1, 26.7, 13.4, 14.4, 50. , 22. ,\n       19.9, 23.8, 17.5, 12.7,  5.6, 31.1, 26.2, 19.4, 16.7, 13.8, 22.9,\n       15.3, 27.5, 36.1, 22.9, 24.5, 25. , 50. , 34.9, 31.7, 24.1, 22.1,\n       14.1, 42.8, 19.3, 32.2, 26.4, 21.8, 21.7,  8.3, 46.7, 43.1, 31.5,\n       10.5, 16.7, 20. , 33.3, 17.8, 50. , 20.5, 23.2, 13.1, 19.6, 22.8,\n       28.7, 30.7, 22.9, 21.9, 23.9, 32.7, 24.3, 21.5, 24.6,  8.5, 26.4,\n       23.1, 15. ,  8.8, 19.3, 23.9, 24.7, 19.8, 23.8, 13.3, 29. , 27.1,\n       34.6, 13.3, 15.6, 12.5, 14.6, 11. , 24.8, 17.3,  8.1, 21.4, 15.6,\n       23.3, 32. , 38.7, 30.1, 20.5, 32.5, 42.3, 24.3, 20.6, 22. , 18.2,\n       15. ,  6.3, 20.1, 21.4, 28.4, 30.1, 20.8, 23. , 14.3, 11.7, 37.3,\n       17.1, 10.4, 23. , 22.7, 20.3, 21.7, 50. ,  8.4, 18.8, 37.2, 16.1,\n       16.5, 22.2, 20.6, 13.5, 48.3, 23.8, 22.7, 17.4, 30.3, 36. , 41.7,\n       18.3, 22. , 18.6, 44.8, 11.9, 18.7, 16.2, 22. ,  7.2, 20.4, 13.8,\n       13. , 18.4, 23.1, 21.2, 23.1, 23.5, 50. , 26.6, 22.2, 50. ,  8.3,\n       23.3, 21.7, 18.9, 18.4, 17.4, 13.4, 12.1, 26.6, 21.7, 28.4, 20.5,\n       22. , 13.9, 11.3, 29.9, 26.6, 10.5, 23.2, 24.4, 46. , 21.9,  7.5,\n       36.2, 44. , 17.8, 27.5, 37.6, 14.1, 28.1, 10.2, 19.1, 43.8, 27.9,\n       25. , 16. , 16.6, 13.2, 50. , 22.2, 32.9, 15.2, 14.8, 13.8, 24.3,\n       33.8, 22.3, 50. ,  9.5, 13.3, 22.2, 18.1, 18. , 25. , 16.5, 23. ,\n       20.1, 33. , 24.8, 18.2, 13.1, 34.9, 10.2, 19.9, 27.9, 23.3, 35.1,\n       12.8, 22. , 18.5, 25.1, 22.5, 22.4, 28.6, 19.5, 24.8, 24.5, 21.4,\n       33.1, 22.9, 20.7, 24.1, 50. , 24.7, 28.7,  7.2, 37. , 20.3, 30.1,\n       19.5, 23.4, 11.5, 21.6, 14.9, 15.2, 19.4,  8.4, 28. , 22.6, 13.5,\n       14.5, 31. , 10.9, 21.9, 22. , 19. , 21.4, 25. , 17.5, 36.5, 20.1,\n       20.4, 16.2, 23.6,  7.4, 35.2, 50. , 19.3, 21.2, 15.6, 33.4, 19.1,\n       21. , 23.7, 18.9, 16.8, 19.7, 17.7, 22.6, 11.8, 34.9, 20.6, 20.2,\n       32. , 22.3, 23.3, 14.4, 31.2, 24. , 29.6, 19.6, 21.6, 20. , 27. ,\n       33.2, 15.4, 30.5,  7.2, 23.9, 16.3, 23.9, 50. , 22.8, 15.4, 19.2,\n       19.6, 22.6, 33.2, 50. , 22.2, 14.9, 19.8, 23.7, 19. , 20.3, 11.9,\n       13.6, 29.8, 21.7, 19.5, 21.1, 24.5, 13.4, 18.6]),)"
     ]
    }
   ],
   "source": [
    "from sklearn.neural_network import MLPClassifier\n",
    "rede_neural_credit = MLPClassifier(max_iter = 1000, verbose = True, tol=0.0000100,  learning_rate_init= 0.001,\n",
    "                                  hidden_layer_sizes =(20,100))\n",
    "rede_neural_credit.fit(x_train, y_train)"
   ]
  },
  {
   "cell_type": "code",
   "execution_count": null,
   "id": "bd854e2f",
   "metadata": {},
   "outputs": [
    {
     "data": {
      "text/plain": [
       "array([0, 0, 0, 1, 0, 0, 0, 0, 0, 0, 0, 0, 0, 0, 0, 0, 0, 0, 1, 0, 0, 0,\n",
       "       1, 1, 0, 1, 1, 0, 0, 0, 0, 0, 0, 0, 0, 0, 0, 0, 0, 1, 0, 0, 0, 0,\n",
       "       0, 0, 0, 0, 0, 0, 0, 0, 0, 1, 0, 0, 0, 0, 0, 0, 0, 0, 0, 0, 0, 0,\n",
       "       0, 0, 0, 0, 0, 0, 1, 0, 0, 0, 0, 1, 1, 0, 0, 0, 0, 0, 1, 0, 0, 0,\n",
       "       0, 1, 1, 0, 0, 0, 0, 0, 0, 0, 0, 0, 0, 1, 0, 0, 0, 1, 0, 0, 0, 0,\n",
       "       0, 0, 0, 0, 0, 0, 0, 0, 0, 0, 0, 1, 0, 1, 0, 1, 0, 0, 1, 0, 0, 0,\n",
       "       0, 0, 0, 0, 0, 0, 0, 0, 0, 0, 0, 0, 0, 0, 0, 1, 0, 0, 0, 0, 1, 0,\n",
       "       0, 0, 0, 0, 0, 0, 0, 0, 0, 0, 0, 0, 0, 0, 0, 0, 0, 0, 0, 1, 0, 0,\n",
       "       0, 1, 0, 0, 0, 0, 0, 0, 0, 0, 0, 0, 0, 0, 1, 0, 0, 0, 1, 0, 0, 0,\n",
       "       0, 0, 0, 0, 0, 0, 0, 1, 0, 0, 0, 0, 0, 0, 0, 0, 0, 0, 0, 0, 0, 0,\n",
       "       1, 1, 0, 0, 0, 0, 0, 0, 0, 1, 0, 0, 0, 0, 1, 1, 1, 0, 0, 0, 0, 0,\n",
       "       0, 0, 0, 0, 0, 0, 1, 0, 0, 0, 0, 0, 0, 0, 0, 0, 0, 0, 1, 0, 0, 0,\n",
       "       0, 0, 0, 0, 0, 0, 0, 0, 0, 0, 1, 0, 0, 0, 0, 0, 0, 0, 0, 0, 0, 0,\n",
       "       0, 1, 0, 0, 0, 0, 0, 0, 0, 0, 1, 0, 0, 0, 0, 0, 0, 0, 0, 0, 1, 0,\n",
       "       1, 0, 0, 0, 0, 0, 0, 1, 0, 1, 0, 1, 0, 0, 0, 0, 0, 0, 0, 0, 0, 0,\n",
       "       1, 0, 0, 0, 0, 0, 0, 0, 0, 0, 0, 1, 0, 0, 0, 0, 0, 0, 0, 0, 0, 0,\n",
       "       0, 0, 0, 0, 0, 0, 0, 0, 1, 0, 0, 0, 0, 0, 1, 0, 0, 0, 0, 0, 1, 0,\n",
       "       0, 0, 1, 0, 1, 0, 0, 0, 0, 0, 0, 0, 0, 0, 0, 1, 1, 0, 0, 0, 0, 0,\n",
       "       0, 0, 0, 0, 0, 0, 0, 0, 0, 1, 1, 0, 1, 0, 0, 0, 0, 0, 0, 0, 0, 1,\n",
       "       0, 0, 0, 0, 0, 0, 0, 0, 1, 0, 0, 0, 0, 0, 0, 0, 0, 0, 0, 0, 0, 0,\n",
       "       0, 1, 1, 0, 1, 0, 0, 0, 0, 0, 0, 0, 0, 0, 0, 0, 0, 0, 0, 0, 0, 1,\n",
       "       0, 1, 1, 0, 0, 0, 0, 0, 0, 0, 0, 1, 1, 0, 0, 1, 0, 1, 0, 0, 0, 0,\n",
       "       1, 0, 0, 0, 0, 0, 1, 0, 0, 0, 0, 0, 0, 0, 0, 0], dtype=int64)"
      ]
     },
     "execution_count": 16,
     "metadata": {},
     "output_type": "execute_result"
    }
   ],
   "source": [
    "previsoes = rede_neural_credit.predict(X_credit_teste)\n",
    "previsoes"
   ]
  },
  {
   "cell_type": "code",
   "execution_count": null,
   "id": "d0c918a6",
   "metadata": {},
   "outputs": [
    {
     "data": {
      "text/plain": [
       "408     0\n",
       "1191    0\n",
       "677     0\n",
       "1360    1\n",
       "813     0\n",
       "       ..\n",
       "1900    0\n",
       "1524    0\n",
       "1415    0\n",
       "1306    0\n",
       "1767    0\n",
       "Name: default, Length: 500, dtype: int64"
      ]
     },
     "execution_count": 17,
     "metadata": {},
     "output_type": "execute_result"
    }
   ],
   "source": [
    "y_credit_teste"
   ]
  },
  {
   "cell_type": "code",
   "execution_count": null,
   "id": "3f93ee81",
   "metadata": {},
   "outputs": [
    {
     "data": {
      "text/plain": [
       "0.994"
      ]
     },
     "execution_count": 18,
     "metadata": {},
     "output_type": "execute_result"
    }
   ],
   "source": [
    "from sklearn.metrics import accuracy_score, classification_report\n",
    "accuracy_score(previsoes, y_credit_teste)"
   ]
  },
  {
   "cell_type": "code",
   "execution_count": null,
   "id": "ae6d4b20",
   "metadata": {},
   "outputs": [],
   "source": []
  },
  {
   "cell_type": "code",
   "execution_count": null,
   "id": "164ccfbf",
   "metadata": {},
   "outputs": [],
   "source": []
  }
 ],
 "metadata": {
  "kernelspec": {
   "display_name": "Python 3 (ipykernel)",
   "language": "python",
   "name": "python3"
  },
  "language_info": {
   "codemirror_mode": {
    "name": "ipython",
    "version": 3
   },
   "file_extension": ".py",
   "mimetype": "text/x-python",
   "name": "python",
   "nbconvert_exporter": "python",
   "pygments_lexer": "ipython3",
   "version": "3.11.3"
  }
 },
 "nbformat": 4,
 "nbformat_minor": 5
}
