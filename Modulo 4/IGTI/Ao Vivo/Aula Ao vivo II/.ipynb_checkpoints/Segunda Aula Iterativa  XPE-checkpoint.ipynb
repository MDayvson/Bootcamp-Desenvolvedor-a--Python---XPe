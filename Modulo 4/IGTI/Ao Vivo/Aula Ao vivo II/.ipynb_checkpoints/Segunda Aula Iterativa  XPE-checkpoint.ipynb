{
 "cells": [
  {
   "cell_type": "code",
   "execution_count": 3,
   "id": "ed397043",
   "metadata": {},
   "outputs": [],
   "source": [
    "#!pip install rx"
   ]
  },
  {
   "cell_type": "code",
   "execution_count": 4,
   "id": "48b95acc",
   "metadata": {},
   "outputs": [
    {
     "name": "stdout",
     "output_type": "stream",
     "text": [
      "on_next: 0 \n",
      "on_next: 2 \n",
      "on_next: 4 \n",
      "on_next: 14 \n",
      "on_completed\n",
      "Fim\n"
     ]
    }
   ],
   "source": [
    "#programação reativa\n",
    "import time\n",
    "import rx\n",
    "import rx.operators as ops\n",
    "\n",
    "source = rx.from_iterable([1,2,3,4,5,10,15])\n",
    "#source = rx.from_iterable([1,2,'abc',4,5]) #observable\n",
    "\n",
    "disposable=source.pipe(\n",
    "    ops.map(lambda i:i-1),\n",
    "    ops.filter(lambda i:i%2==0),\n",
    ").subscribe( #observer\n",
    "    \n",
    "    on_next=lambda i: print(\"on_next: {} \".format(i)),\n",
    "    on_completed=lambda: print(\"on_completed\"),\n",
    "    on_error=lambda e:print(\"on_error: {}\".format(e))\n",
    ")\n",
    "\n",
    "disposable.dispose()\n",
    "\n",
    "print(\"Fim\")"
   ]
  },
  {
   "cell_type": "code",
   "execution_count": null,
   "id": "e3dc3f40",
   "metadata": {},
   "outputs": [],
   "source": []
  }
 ],
 "metadata": {
  "kernelspec": {
   "display_name": "Python 3 (ipykernel)",
   "language": "python",
   "name": "python3"
  },
  "language_info": {
   "codemirror_mode": {
    "name": "ipython",
    "version": 3
   },
   "file_extension": ".py",
   "mimetype": "text/x-python",
   "name": "python",
   "nbconvert_exporter": "python",
   "pygments_lexer": "ipython3",
   "version": "3.11.3"
  }
 },
 "nbformat": 4,
 "nbformat_minor": 5
}
