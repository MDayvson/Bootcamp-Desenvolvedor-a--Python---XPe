{
 "cells": [
  {
   "cell_type": "code",
   "execution_count": 1,
   "metadata": {},
   "outputs": [],
   "source": [
    "import numpy as np"
   ]
  },
  {
   "cell_type": "code",
   "execution_count": 4,
   "metadata": {},
   "outputs": [
    {
     "name": "stdout",
     "output_type": "stream",
     "text": [
      "x: [ 10.  20.  30.  40.  50.  60.  70.  80.  90. 100.]\n",
      "shape: (10,)\n"
     ]
    }
   ],
   "source": [
    "x = np.linspace(start=10, stop=100, num=10)\n",
    "\n",
    "print('x:', x)\n",
    "print('shape:', x.shape)"
   ]
  },
  {
   "cell_type": "code",
   "execution_count": 6,
   "metadata": {},
   "outputs": [
    {
     "name": "stdout",
     "output_type": "stream",
     "text": [
      "x: [ 10.  20.  30.  40.  50.  60.  70.  80.  90. 100.]\n",
      "10.0\n"
     ]
    }
   ],
   "source": [
    "# extração de elementos \n",
    "print('x:', x)\n",
    "print(x[0])"
   ]
  },
  {
   "cell_type": "code",
   "execution_count": 7,
   "metadata": {},
   "outputs": [
    {
     "name": "stdout",
     "output_type": "stream",
     "text": [
      "x: [ 10.  20.  30.  40.  50.  60.  70.  80.  90. 100.]\n",
      "[10. 20.]\n"
     ]
    }
   ],
   "source": [
    "# extração de subarrays\n",
    "print('x:', x)\n",
    "print(x[:2])"
   ]
  },
  {
   "cell_type": "code",
   "execution_count": 8,
   "metadata": {},
   "outputs": [
    {
     "name": "stdout",
     "output_type": "stream",
     "text": [
      "x:\n",
      " [[ 10.  20.  30.  40.  50.]\n",
      " [ 60.  70.  80.  90. 100.]]\n"
     ]
    }
   ],
   "source": [
    "# arrays 2D\n",
    "\n",
    "x = x.reshape(2, 5)\n",
    "print('x:\\n', x)"
   ]
  },
  {
   "cell_type": "code",
   "execution_count": 12,
   "metadata": {},
   "outputs": [
    {
     "name": "stdout",
     "output_type": "stream",
     "text": [
      "[10. 20. 30. 40. 50.]\n",
      "[20. 30. 40.]\n",
      "[[ 50.]\n",
      " [100.]]\n"
     ]
    }
   ],
   "source": [
    "# extração de subarrays\n",
    "\n",
    "print(x[0, :5]) # primeira linha\n",
    "print(x[0, 1:4]) # primeira linha 2 a 4 coluna\n",
    "print(x[:, [-1]]) # ultima coluna, coluca entre colchete para manter o formato de coluna"
   ]
  },
  {
   "attachments": {},
   "cell_type": "markdown",
   "metadata": {},
   "source": [
    "# atenção\n",
    "\n"
   ]
  },
  {
   "cell_type": "code",
   "execution_count": 14,
   "metadata": {},
   "outputs": [
    {
     "name": "stdout",
     "output_type": "stream",
     "text": [
      "x antes:\n",
      "x depois: [-100    2    3]\n"
     ]
    }
   ],
   "source": [
    "x =np.array([1, 2, 3])\n",
    "print('x antes:'), x\n",
    "y = x[:2]\n",
    "y[0] = -100\n",
    "print('x depois:', x)"
   ]
  },
  {
   "cell_type": "code",
   "execution_count": 15,
   "metadata": {},
   "outputs": [
    {
     "name": "stdout",
     "output_type": "stream",
     "text": [
      "x antes:\n",
      "x depois: [1 2 3]\n"
     ]
    }
   ],
   "source": [
    "# usar copy\n",
    "\n",
    "x =np.array([1, 2, 3])\n",
    "print('x antes:'), x\n",
    "y = x[:2].copy()\n",
    "y[0] = -100\n",
    "print('x depois:', x)"
   ]
  },
  {
   "attachments": {},
   "cell_type": "markdown",
   "metadata": {},
   "source": [
    "## Indexação boleana"
   ]
  },
  {
   "cell_type": "code",
   "execution_count": 18,
   "metadata": {},
   "outputs": [
    {
     "name": "stdout",
     "output_type": "stream",
     "text": [
      "[ True  True False]\n",
      "[1 2]\n"
     ]
    }
   ],
   "source": [
    "a = np.array([1, 2, 3])\n",
    "\n",
    "cond = a <= 2\n",
    "d = a[cond]\n",
    "\n",
    "print(cond)\n",
    "print(d) # retorna os valores onde a condição é verdadeira"
   ]
  }
 ],
 "metadata": {
  "kernelspec": {
   "display_name": "Python 3",
   "language": "python",
   "name": "python3"
  },
  "language_info": {
   "codemirror_mode": {
    "name": "ipython",
    "version": 3
   },
   "file_extension": ".py",
   "mimetype": "text/x-python",
   "name": "python",
   "nbconvert_exporter": "python",
   "pygments_lexer": "ipython3",
   "version": "3.11.2"
  },
  "orig_nbformat": 4
 },
 "nbformat": 4,
 "nbformat_minor": 2
}
