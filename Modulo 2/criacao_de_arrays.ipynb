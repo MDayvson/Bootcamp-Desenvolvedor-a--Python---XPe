{
 "cells": [
  {
   "cell_type": "code",
   "execution_count": 3,
   "metadata": {},
   "outputs": [
    {
     "name": "stdout",
     "output_type": "stream",
     "text": [
      "x = [1 2 3]\n",
      "shape: (3,)\n"
     ]
    }
   ],
   "source": [
    "import numpy as np\n",
    "\n",
    "# array 1D\n",
    "l = [1, 2, 3]\n",
    "x = np.array(l)\n",
    "print(f'x = {x}')\n",
    "print('shape:', x.shape)\n"
   ]
  },
  {
   "cell_type": "code",
   "execution_count": 4,
   "metadata": {},
   "outputs": [
    {
     "name": "stdout",
     "output_type": "stream",
     "text": [
      "x:\n",
      " [[1 2]\n",
      " [3 4]]\n",
      "shape (2, 2)\n"
     ]
    }
   ],
   "source": [
    "# array 2D\n",
    "\n",
    "l = [[1, 2], [3, 4]]\n",
    "x = np.array(l)\n",
    "print('x:\\n', x)\n",
    "print('shape', x.shape)\n"
   ]
  },
  {
   "cell_type": "code",
   "execution_count": 5,
   "metadata": {},
   "outputs": [
    {
     "name": "stdout",
     "output_type": "stream",
     "text": [
      "x:\n",
      " [[0. 0.]\n",
      " [0. 0.]]\n",
      "shape (2, 2)\n"
     ]
    }
   ],
   "source": [
    "# array apenas com zeros\n",
    "\n",
    "dim = (2, 2)\n",
    "\n",
    "x = np.zeros(dim)\n",
    "print('x:\\n', x)\n",
    "print('shape', x.shape)"
   ]
  },
  {
   "cell_type": "code",
   "execution_count": 6,
   "metadata": {},
   "outputs": [
    {
     "name": "stdout",
     "output_type": "stream",
     "text": [
      "x:\n",
      " [[1. 1.]\n",
      " [1. 1.]]\n",
      "shape (2, 2)\n"
     ]
    }
   ],
   "source": [
    "# array apenas com 1\n",
    "\n",
    "size = (2, 2)\n",
    "x = np.ones(size)\n",
    "print('x:\\n', x)\n",
    "print('shape', x.shape)"
   ]
  },
  {
   "cell_type": "code",
   "execution_count": 7,
   "metadata": {},
   "outputs": [
    {
     "name": "stdout",
     "output_type": "stream",
     "text": [
      "x: [ 5.  7.  9. 11. 13. 15.]\n",
      "shape (6,)\n"
     ]
    }
   ],
   "source": [
    "# criação de valores dentro de um intervalo\n",
    "# valores uniformes entre intervalos\n",
    "\n",
    "x_min, x_max = 5, 15\n",
    "x = np.linspace(start=x_min, stop=x_max, num=6)\n",
    "print('x:', x)\n",
    "print('shape', x.shape)"
   ]
  },
  {
   "cell_type": "code",
   "execution_count": 8,
   "metadata": {},
   "outputs": [
    {
     "name": "stdout",
     "output_type": "stream",
     "text": [
      "x: [[1. 0. 0. 0.]\n",
      " [0. 1. 0. 0.]\n",
      " [0. 0. 1. 0.]\n",
      " [0. 0. 0. 1.]]\n",
      "shape (4, 4)\n"
     ]
    }
   ],
   "source": [
    "# criação de matriz identidade\n",
    "n = 4\n",
    "x = np.eye(n)\n",
    "print('x:', x)\n",
    "print('shape', x.shape)"
   ]
  },
  {
   "cell_type": "code",
   "execution_count": 9,
   "metadata": {},
   "outputs": [
    {
     "name": "stdout",
     "output_type": "stream",
     "text": [
      "x:\n",
      " [[0.04751852 0.95039998 0.27910443]\n",
      " [0.61281232 0.83437467 0.53707353]]\n",
      "shape (2, 3)\n"
     ]
    }
   ],
   "source": [
    "# criação de valores aleatorios\n",
    "\n",
    "x = np.random.random(size=(2, 3))\n",
    "print('x:\\n', x)\n",
    "print('shape', x.shape)"
   ]
  }
 ],
 "metadata": {
  "kernelspec": {
   "display_name": "Python 3",
   "language": "python",
   "name": "python3"
  },
  "language_info": {
   "codemirror_mode": {
    "name": "ipython",
    "version": 3
   },
   "file_extension": ".py",
   "mimetype": "text/x-python",
   "name": "python",
   "nbconvert_exporter": "python",
   "pygments_lexer": "ipython3",
   "version": "3.11.2"
  },
  "orig_nbformat": 4
 },
 "nbformat": 4,
 "nbformat_minor": 2
}
