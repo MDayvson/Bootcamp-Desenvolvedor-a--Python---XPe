{
 "cells": [
  {
   "cell_type": "code",
   "execution_count": 1,
   "metadata": {},
   "outputs": [],
   "source": [
    "import numpy as np\n"
   ]
  },
  {
   "cell_type": "code",
   "execution_count": 3,
   "metadata": {},
   "outputs": [
    {
     "name": "stdout",
     "output_type": "stream",
     "text": [
      "[[ 1  3  7]\n",
      " [ 4 11  2]\n",
      " [42  8  9]]\n"
     ]
    }
   ],
   "source": [
    "x = np.array([[1, 3, 7],\n",
    "             [4, 11, 2],\n",
    "             [42, 8, 9]])\n",
    "\n",
    "print(x)\n"
   ]
  },
  {
   "cell_type": "code",
   "execution_count": 4,
   "metadata": {},
   "outputs": [
    {
     "name": "stdout",
     "output_type": "stream",
     "text": [
      "[[ 1]\n",
      " [ 3]\n",
      " [ 7]\n",
      " [ 4]\n",
      " [11]\n",
      " [ 2]\n",
      " [42]\n",
      " [ 8]\n",
      " [ 9]]\n"
     ]
    }
   ],
   "source": [
    "# reshape: transforma a matriz em um vetor coluna\n",
    "print(x.reshape(9, 1))\n"
   ]
  },
  {
   "cell_type": "code",
   "execution_count": 5,
   "metadata": {},
   "outputs": [
    {
     "name": "stdout",
     "output_type": "stream",
     "text": [
      "[[ 1  4 42]\n",
      " [ 3 11  8]\n",
      " [ 7  2  9]]\n"
     ]
    }
   ],
   "source": [
    "# Transposição de matriz\n",
    "print(x.T)\n"
   ]
  },
  {
   "cell_type": "code",
   "execution_count": 7,
   "metadata": {},
   "outputs": [
    {
     "name": "stdout",
     "output_type": "stream",
     "text": [
      "[[ 1  3  7]\n",
      " [ 4 11  2]\n",
      " [42  8  9]]\n",
      "87\n"
     ]
    }
   ],
   "source": [
    "# soma de todos os elementos\n",
    "print(x)\n",
    "print(np.sum(x))\n"
   ]
  },
  {
   "cell_type": "code",
   "execution_count": 8,
   "metadata": {},
   "outputs": [
    {
     "name": "stdout",
     "output_type": "stream",
     "text": [
      "[[ 1  3  7]\n",
      " [ 4 11  2]\n",
      " [42  8  9]]\n",
      "[47 22 18]\n"
     ]
    }
   ],
   "source": [
    "# soma dos elementos nas linhas axix = 0\n",
    "print(x)\n",
    "print(np.sum(x, axis=0))\n"
   ]
  },
  {
   "cell_type": "code",
   "execution_count": 9,
   "metadata": {},
   "outputs": [
    {
     "name": "stdout",
     "output_type": "stream",
     "text": [
      "[[ 1  3  7]\n",
      " [ 4 11  2]\n",
      " [42  8  9]]\n",
      "[11 17 59]\n"
     ]
    }
   ],
   "source": [
    "# soma dos elementos nas colunas axix = 1\n",
    "print(x)\n",
    "print(np.sum(x, axis=1))\n"
   ]
  },
  {
   "cell_type": "code",
   "execution_count": 11,
   "metadata": {},
   "outputs": [
    {
     "name": "stdout",
     "output_type": "stream",
     "text": [
      "[[ 1  3  7]\n",
      " [ 4 11  2]\n",
      " [42  8  9]]\n",
      "9.666666666666666\n",
      "[15.66666667  7.33333333  6.        ]\n",
      "[ 3.66666667  5.66666667 19.66666667]\n"
     ]
    }
   ],
   "source": [
    "# media ao longo das linhas e colunas\n",
    "\n",
    "print(x)\n",
    "print(np.mean(x))\n",
    "print(np.mean(x, axis=0))\n",
    "print(np.mean(x, axis=1))\n"
   ]
  },
  {
   "cell_type": "code",
   "execution_count": 15,
   "metadata": {},
   "outputs": [
    {
     "name": "stdout",
     "output_type": "stream",
     "text": [
      "[[ 1  3  7]\n",
      " [ 4 11  2]\n",
      " [42  8  9]]\n",
      "[[False False False]\n",
      " [ True False  True]\n",
      " [ True  True False]]\n",
      "indice i (linhas) [1 1 2 2]\n",
      "indice j (linhas) [0 2 0 1]\n"
     ]
    }
   ],
   "source": [
    "cond = x % 2 == 0\n",
    "print(x)\n",
    "print(cond)\n",
    "i, j = np.where(cond)\n",
    "print('indice i (linhas)', i)\n",
    "print('indice j (linhas)', j)\n"
   ]
  }
 ],
 "metadata": {
  "kernelspec": {
   "display_name": "Python 3",
   "language": "python",
   "name": "python3"
  },
  "language_info": {
   "codemirror_mode": {
    "name": "ipython",
    "version": 3
   },
   "file_extension": ".py",
   "mimetype": "text/x-python",
   "name": "python",
   "nbconvert_exporter": "python",
   "pygments_lexer": "ipython3",
   "version": "3.11.3"
  },
  "orig_nbformat": 4
 },
 "nbformat": 4,
 "nbformat_minor": 2
}
